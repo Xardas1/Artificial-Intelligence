{
 "cells": [
  {
   "cell_type": "code",
   "execution_count": 1,
   "id": "c1ecb639",
   "metadata": {},
   "outputs": [],
   "source": [
    "import numpy as np\n",
    "import pdb\n",
    "from PIL import Image\n",
    "from scipy import ndimage\n",
    "import os\n",
    "import unittest\n",
    "from scipy.ndimage import maximum_filter\n",
    "from numpy.lib.stride_tricks import as_strided"
   ]
  },
  {
   "cell_type": "code",
   "execution_count": 2,
   "id": "cf6256f2",
   "metadata": {},
   "outputs": [],
   "source": [
    "png_file = Image.open(\"C:\\\\Data\\\\2.png\")\n",
    "array_image = np.array(png_file)\n",
    "kernel_3d = np.random.rand(3, 3, 4)\n",
    "kernel_32d = np.random.rand(3, 3, 32)\n",
    "png_file_1 = Image.open(\"C:\\\\Data\\\\1.png\")\n",
    "array_image_1 = np.array(png_file_1)\n",
    "png_file_2 = Image.open(\"C:\\\\Data\\\\7.png\")\n",
    "array_image_2 = np.array(png_file_2)"
   ]
  },
  {
   "cell_type": "code",
   "execution_count": 77,
   "id": "02e3d2c3",
   "metadata": {},
   "outputs": [
    {
     "data": {
      "text/plain": [
       "(590, 586, 4)"
      ]
     },
     "execution_count": 77,
     "metadata": {},
     "output_type": "execute_result"
    }
   ],
   "source": [
    "array_image.shape"
   ]
  },
  {
   "cell_type": "code",
   "execution_count": 4,
   "id": "0fe96224",
   "metadata": {},
   "outputs": [
    {
     "data": {
      "text/plain": [
       "array([[0.51571175, 0.71267851],\n",
       "       [0.16118667, 0.86289568]])"
      ]
     },
     "execution_count": 4,
     "metadata": {},
     "output_type": "execute_result"
    }
   ],
   "source": [
    "np.random.rand(2, 2)"
   ]
  },
  {
   "cell_type": "code",
   "execution_count": 5,
   "id": "761b4fe2",
   "metadata": {},
   "outputs": [
    {
     "data": {
      "text/plain": [
       "(343, 345, 4)"
      ]
     },
     "execution_count": 5,
     "metadata": {},
     "output_type": "execute_result"
    }
   ],
   "source": [
    "array_image_1.shape"
   ]
  },
  {
   "cell_type": "code",
   "execution_count": 6,
   "id": "9684a460",
   "metadata": {},
   "outputs": [],
   "source": [
    "test = np.random.rand(294, 292, 32)"
   ]
  },
  {
   "cell_type": "code",
   "execution_count": 7,
   "id": "ac240afa",
   "metadata": {},
   "outputs": [],
   "source": [
    "to_stack = []"
   ]
  },
  {
   "cell_type": "code",
   "execution_count": 139,
   "id": "d6bea79f",
   "metadata": {},
   "outputs": [],
   "source": [
    "t = np.array(create_kernels(64, 32))"
   ]
  },
  {
   "cell_type": "code",
   "execution_count": 140,
   "id": "df720ee8",
   "metadata": {},
   "outputs": [
    {
     "data": {
      "text/plain": [
       "array([[[0.27095267, 0.27706946, 0.85321334, 0.04746348, 0.49127119,\n",
       "         0.49528742, 0.2448475 , 0.63108959, 0.74947998, 0.57515579,\n",
       "         0.86514623, 0.5277598 , 0.37217423, 0.34785694, 0.39083229,\n",
       "         0.18979412, 0.06372974, 0.73091972, 0.52138576, 0.17315475,\n",
       "         0.53310805, 0.88847276, 0.29904312, 0.29680763, 0.92435419,\n",
       "         0.66835671, 0.98720611, 0.62452785, 0.37932148, 0.12373576,\n",
       "         0.65239669, 0.70711151],\n",
       "        [0.39258315, 0.88465091, 0.51643177, 0.71224922, 0.04102718,\n",
       "         0.06798681, 0.85265685, 0.9405654 , 0.6868524 , 0.5909354 ,\n",
       "         0.30714777, 0.74636423, 0.61023437, 0.24688906, 0.11239014,\n",
       "         0.95555696, 0.3124456 , 0.00478241, 0.82395592, 0.59713757,\n",
       "         0.94069933, 0.1178534 , 0.11134666, 0.15172482, 0.75724237,\n",
       "         0.96490719, 0.61891541, 0.2258437 , 0.15228269, 0.61011504,\n",
       "         0.68549969, 0.39096828],\n",
       "        [0.69854141, 0.49117834, 0.85711063, 0.51454018, 0.66461443,\n",
       "         0.03150035, 0.56964234, 0.34626981, 0.25713318, 0.88408364,\n",
       "         0.51702616, 0.19518069, 0.45123099, 0.85174387, 0.18060344,\n",
       "         0.31880943, 0.8724434 , 0.92339427, 0.54861491, 0.72032665,\n",
       "         0.97460287, 0.0132685 , 0.47266382, 0.94878032, 0.77575412,\n",
       "         0.88516124, 0.89875542, 0.67250597, 0.2869517 , 0.52716845,\n",
       "         0.81132892, 0.46530246]],\n",
       "\n",
       "       [[0.55915507, 0.60640625, 0.60221741, 0.79782447, 0.88739789,\n",
       "         0.98757738, 0.45862064, 0.78426018, 0.3158698 , 0.35910225,\n",
       "         0.55444491, 0.2347874 , 0.91465236, 0.41713812, 0.00733722,\n",
       "         0.72633584, 0.92291259, 0.83304934, 0.0507596 , 0.73654038,\n",
       "         0.62256431, 0.20620828, 0.67588024, 0.66102886, 0.45831649,\n",
       "         0.12340961, 0.06157745, 0.63158513, 0.40501865, 0.26271735,\n",
       "         0.74088071, 0.98414734],\n",
       "        [0.31310238, 0.54993765, 0.76491503, 0.54639858, 0.27038824,\n",
       "         0.66899366, 0.64159329, 0.79049428, 0.99647562, 0.93187711,\n",
       "         0.3042489 , 0.12962184, 0.00449175, 0.31731358, 0.91419709,\n",
       "         0.62353751, 0.05006083, 0.46727761, 0.62008166, 0.02736785,\n",
       "         0.87847882, 0.48076371, 0.89695274, 0.23800517, 0.40678783,\n",
       "         0.24975176, 0.40115063, 0.54227809, 0.72108346, 0.38487062,\n",
       "         0.39836905, 0.28784222],\n",
       "        [0.41899034, 0.25701203, 0.95243609, 0.44485799, 0.48900392,\n",
       "         0.01336721, 0.0305807 , 0.8918077 , 0.75758447, 0.73150451,\n",
       "         0.95880252, 0.71125421, 0.75437819, 0.35504056, 0.42838822,\n",
       "         0.08672045, 0.84479083, 0.03353766, 0.35940184, 0.18978946,\n",
       "         0.87670568, 0.43423051, 0.49031921, 0.62650612, 0.51422172,\n",
       "         0.10576694, 0.1702642 , 0.59681482, 0.32731274, 0.63938649,\n",
       "         0.45671503, 0.61303504]],\n",
       "\n",
       "       [[0.11406678, 0.49290934, 0.19888863, 0.05728026, 0.39267871,\n",
       "         0.77405251, 0.43270465, 0.28591794, 0.63608874, 0.43817665,\n",
       "         0.40386325, 0.30753454, 0.04115341, 0.20949547, 0.0024921 ,\n",
       "         0.99810671, 0.65707342, 0.97921221, 0.5330248 , 0.211415  ,\n",
       "         0.10424643, 0.08416386, 0.66718892, 0.38164605, 0.5713334 ,\n",
       "         0.8677027 , 0.49801262, 0.95243073, 0.35979499, 0.34248802,\n",
       "         0.72511602, 0.00297571],\n",
       "        [0.36214029, 0.8523799 , 0.31975471, 0.44619311, 0.91504666,\n",
       "         0.87809352, 0.39819733, 0.3443838 , 0.83990176, 0.57695774,\n",
       "         0.60123722, 0.09444988, 0.06769859, 0.54768363, 0.61682827,\n",
       "         0.52993197, 0.77705167, 0.98802037, 0.52594337, 0.43744311,\n",
       "         0.80891879, 0.89493389, 0.72405198, 0.11603559, 0.31326408,\n",
       "         0.72120801, 0.76169778, 0.57740995, 0.41624587, 0.32818671,\n",
       "         0.79506534, 0.18731795],\n",
       "        [0.31306962, 0.74475119, 0.15872416, 0.19465449, 0.43393309,\n",
       "         0.59980685, 0.21128509, 0.39529253, 0.89188249, 0.14948077,\n",
       "         0.95396925, 0.13447574, 0.21313995, 0.49140429, 0.05831982,\n",
       "         0.45136754, 0.73145147, 0.3718498 , 0.07805652, 0.3747496 ,\n",
       "         0.56035436, 0.69188833, 0.06811236, 0.9365134 , 0.02469515,\n",
       "         0.64898805, 0.51968756, 0.0805027 , 0.79234508, 0.70781816,\n",
       "         0.11348417, 0.19436635]]])"
      ]
     },
     "execution_count": 140,
     "metadata": {},
     "output_type": "execute_result"
    }
   ],
   "source": [
    "t[0]"
   ]
  },
  {
   "cell_type": "code",
   "execution_count": 9,
   "id": "5f47e16c",
   "metadata": {},
   "outputs": [],
   "source": [
    "def reshape_dimensions_convolution(input_height, input_width, filter_height, filter_width, stride):\n",
    "    output_height = int(((input_height - filter_height) / stride) + 1)\n",
    "    output_width  = int(((input_width - filter_width)  / stride) + 1)\n",
    "    return (output_height, output_width)"
   ]
  },
  {
   "cell_type": "code",
   "execution_count": 10,
   "id": "5a6dcfb1",
   "metadata": {},
   "outputs": [
    {
     "data": {
      "text/plain": [
       "(2, 2)"
      ]
     },
     "execution_count": 10,
     "metadata": {},
     "output_type": "execute_result"
    }
   ],
   "source": [
    "reshape_dimensions_convolution(3, 3, 2, 2, 1)"
   ]
  },
  {
   "cell_type": "code",
   "execution_count": 11,
   "id": "cbc94cd2",
   "metadata": {},
   "outputs": [],
   "source": [
    "def reshape_dimensions_pooling(input_height, input_width, f, s):\n",
    "    output_height = int(((input_height - f) / s) + 1)\n",
    "    output_width = int(((input_width - f) / s) + 1)\n",
    "    return (output_height, output_width)"
   ]
  },
  {
   "cell_type": "code",
   "execution_count": 141,
   "id": "bb417220",
   "metadata": {},
   "outputs": [],
   "source": [
    "def forward_pass(image):\n",
    "    shape = image.shape\n",
    "    kernels = create_kernels(32, 4)\n",
    "    kernels2 =  create_kernels(64, 32)\n",
    "    pdb.set_trace()\n",
    "    to_stack_values = []\n",
    "    dimensions = reshape_dimensions_convolution(shape[0], shape[1], 3, 3, 1) \n",
    "    for i in range(len(kernels)):\n",
    "        to_stack_values.append(convolve_one_step_vectorized(image, kernels[i]))\n",
    "    stacked_filters = np.stack(to_stack_values, axis = 2)\n",
    "    first_ReLU = ReLUv2(stacked_filters)\n",
    "    pool_to_reshape = reshape_dimensions_pooling(first_ReLU.shape[0], first_ReLU.shape[1], 2, 2)\n",
    "    first_max_pool = np.array(max_pooling(first_ReLU)).reshape(pool_to_reshape[0], pool_to_reshape[1], 32)\n",
    "    to_stack_values.clear()\n",
    "    shape2 = first_max_pool.shape\n",
    "    return shape2\n",
    "    for f in range(len(kernels2)):\n",
    "        to_stack_values.append(convolve_one_step_vectorized(first_max_pool, kernels2[f]))\n",
    "    return to_stack_values\n",
    "    \n",
    "    \"\"\"\n",
    "    stacked_filters2 = np.stack(to_stack_values, axis = 2)\n",
    "    second_ReLU = np.array(ReLUv2(stacked_filters2))\n",
    "    pool_to_reshape2 = reshape_dimensions_pooling(second_ReLU.shape[0], second_ReLU.shape[1], 2, 2)\n",
    "    second_max_pool = np.array(max_pooling(second_ReLU).reshape(pool_to_reshape[2], pool_to_reshape[2]), 64)\n",
    "    return second_max_pool\n",
    "    \"\"\""
   ]
  },
  {
   "cell_type": "code",
   "execution_count": null,
   "id": "1861d7fc",
   "metadata": {},
   "outputs": [
    {
     "name": "stdout",
     "output_type": "stream",
     "text": [
      "> \u001b[1;32mc:\\users\\dembek\\appdata\\local\\temp\\ipykernel_14576\\2001528463.py\u001b[0m(6)\u001b[0;36mforward_pass\u001b[1;34m()\u001b[0m\n",
      "\n"
     ]
    }
   ],
   "source": [
    "forward_pass(array_image)"
   ]
  },
  {
   "cell_type": "code",
   "execution_count": 14,
   "id": "e2a21e0c",
   "metadata": {},
   "outputs": [],
   "source": [
    "shajp = test.shape"
   ]
  },
  {
   "cell_type": "code",
   "execution_count": 15,
   "id": "b322db85",
   "metadata": {},
   "outputs": [],
   "source": [
    "to_reshape = reshape_dimensions_convolution(shajp[0], shajp[1], 3, 3, 1)"
   ]
  },
  {
   "cell_type": "code",
   "execution_count": 16,
   "id": "d2fed909",
   "metadata": {},
   "outputs": [
    {
     "ename": "NameError",
     "evalue": "name 'alfa' is not defined",
     "output_type": "error",
     "traceback": [
      "\u001b[1;31m---------------------------------------------------------------------------\u001b[0m",
      "\u001b[1;31mNameError\u001b[0m                                 Traceback (most recent call last)",
      "Cell \u001b[1;32mIn[16], line 1\u001b[0m\n\u001b[1;32m----> 1\u001b[0m alfa\u001b[38;5;241m.\u001b[39mshape\n",
      "\u001b[1;31mNameError\u001b[0m: name 'alfa' is not defined"
     ]
    }
   ],
   "source": [
    "alfa.shape"
   ]
  },
  {
   "cell_type": "code",
   "execution_count": 135,
   "id": "11536dab",
   "metadata": {},
   "outputs": [],
   "source": [
    "def create_kernels(number_to_create, depth):\n",
    "    every_kernel = []\n",
    "    for f_u in range(number_to_create):\n",
    "        every_kernel.append(np.random.rand(3, 3, depth))\n",
    "    return np.array(every_kernel)"
   ]
  },
  {
   "cell_type": "code",
   "execution_count": 17,
   "id": "e3049033",
   "metadata": {},
   "outputs": [],
   "source": [
    "test_image = np.random.rand(10, 10, 4)"
   ]
  },
  {
   "cell_type": "code",
   "execution_count": 18,
   "id": "7c8cd443",
   "metadata": {},
   "outputs": [],
   "source": [
    "def convolve_one_step(input_image, kernel_used):\n",
    "    intermediate_values = []\n",
    "    dimensions = input_image.shape\n",
    "    dimensions_kernel = kernel_used.shape\n",
    "    final_values = []\n",
    "    dimensions_to_reshape = reshape_dimensions_convolution(dimensions[0], dimensions[1], dimensions_kernel[0], dimensions_kernel[1], 1)\n",
    "    for i in range(dimensions[0] - 2):\n",
    "        for j in range(dimensions[1] - 2):\n",
    "            for k in range(dimensions[2] ):\n",
    "                slice_of_image = input_image[i : i + 3, j : j + 3, k]\n",
    "                real_kernel = kernel_used[:, :, k]\n",
    "                value = np.vdot(slice_of_image, real_kernel)\n",
    "                intermediate_values.append(value)\n",
    "                #pdb.set_trace()\n",
    "                if len(intermediate_values) == dimensions[2]:\n",
    "                    final_values.append(sum_dimension(intermediate_values))\n",
    "                    intermediate_values.clear()\n",
    "                    \n",
    "    return np.array(final_values).reshape(dimensions_to_reshape)"
   ]
  },
  {
   "cell_type": "code",
   "execution_count": 19,
   "id": "46848499",
   "metadata": {},
   "outputs": [],
   "source": [
    "def sum_dimension(list_of_three):\n",
    "    return sum(list_of_three)"
   ]
  },
  {
   "cell_type": "code",
   "execution_count": 20,
   "id": "cc9d5c83",
   "metadata": {},
   "outputs": [
    {
     "ename": "NameError",
     "evalue": "name 'dimensions' is not defined",
     "output_type": "error",
     "traceback": [
      "\u001b[1;31m---------------------------------------------------------------------------\u001b[0m",
      "\u001b[1;31mNameError\u001b[0m                                 Traceback (most recent call last)",
      "Cell \u001b[1;32mIn[20], line 1\u001b[0m\n\u001b[1;32m----> 1\u001b[0m image_after_conv_2 \u001b[38;5;241m=\u001b[39m np\u001b[38;5;241m.\u001b[39marray(convolve_one_step(array_image, kernel_3d))\u001b[38;5;241m.\u001b[39mreshape(dimensions[\u001b[38;5;241m0\u001b[39m], dimensions[\u001b[38;5;241m1\u001b[39m], \u001b[38;5;241m1\u001b[39m)\n",
      "\u001b[1;31mNameError\u001b[0m: name 'dimensions' is not defined"
     ]
    }
   ],
   "source": [
    "image_after_conv_2 = np.array(convolve_one_step(array_image, kernel_3d)).reshape(dimensions[0], dimensions[1], 1)"
   ]
  },
  {
   "cell_type": "code",
   "execution_count": 29,
   "id": "5b793538",
   "metadata": {},
   "outputs": [],
   "source": [
    "def max_pooling(image_array):\n",
    "    pooling_values = []\n",
    "    for m in range(0, image_array.shape[0], 2):\n",
    "        for n in range(0, image_array.shape[1], 2):\n",
    "            for o in range(image_array.shape[2]):\n",
    "                if n + 2 > image_array.shape[1]:\n",
    "                    slice_of_pooling = image_array[m : m + 2, n - 1: n + 1 , o]\n",
    "                else:\n",
    "                    slice_of_pooling = image_array[m : m + 2, n : n + 2 , o]\n",
    "                pooling_values.append(slice_of_pooling.max())\n",
    "                #pdb.set_trace()\n",
    "    return pooling_values"
   ]
  },
  {
   "cell_type": "code",
   "execution_count": 30,
   "id": "11b582d2",
   "metadata": {},
   "outputs": [],
   "source": [
    "filtr = test_image[0 : 2, 0 : 2, 0]"
   ]
  },
  {
   "cell_type": "code",
   "execution_count": 31,
   "id": "63feba0a",
   "metadata": {},
   "outputs": [],
   "source": [
    "after_maxpool = np.array(max_pooling(test_image)).reshape(5, 5, 4)"
   ]
  },
  {
   "cell_type": "code",
   "execution_count": 32,
   "id": "b401c15e",
   "metadata": {},
   "outputs": [
    {
     "data": {
      "text/plain": [
       "(5, 5, 4)"
      ]
     },
     "execution_count": 32,
     "metadata": {},
     "output_type": "execute_result"
    }
   ],
   "source": [
    "after_maxpool.shape"
   ]
  },
  {
   "cell_type": "code",
   "execution_count": 33,
   "id": "84089c4e",
   "metadata": {},
   "outputs": [],
   "source": [
    "def ReLUv1(x):\n",
    "    after_relu = []\n",
    "    for r in x:\n",
    "        if r > 0:\n",
    "            after_relu.append(r)\n",
    "        else:\n",
    "            after_relu.append(0)\n",
    "    return after_relu"
   ]
  },
  {
   "cell_type": "code",
   "execution_count": 34,
   "id": "09672ef6",
   "metadata": {},
   "outputs": [],
   "source": [
    "def ReLUv2(x):\n",
    "    return np.maximum(0, x)"
   ]
  },
  {
   "cell_type": "code",
   "execution_count": 35,
   "id": "a8f5d3c2",
   "metadata": {},
   "outputs": [],
   "source": [
    "last_pool = np.random.rand(2, 2, 1)"
   ]
  },
  {
   "cell_type": "code",
   "execution_count": 36,
   "id": "4803327d",
   "metadata": {},
   "outputs": [],
   "source": [
    "def fully_connected(after_last_max_pool, number_of_nodes):\n",
    "    almost_values = []\n",
    "    nodes_values = []\n",
    "    flatten_array = after_last_max_pool.reshape(4)\n",
    "    weights = np.random.rand(len(flatten_array), number_of_nodes)\n",
    "    for x in range(weights.shape[1]):\n",
    "        for y in range(weights.shape[0]):\n",
    "            if y == weights.shape[0] - 1:\n",
    "                almost_values.append(weights[y : y + 1, x] * flatten_array[y])\n",
    "                nodes_values.append(sum(almost_values))\n",
    "                almost_values.clear()\n",
    "            else:\n",
    "                almost_values.append(weights[y : y + 1, x] * flatten_array[y])\n",
    "    return nodes_values"
   ]
  },
  {
   "cell_type": "code",
   "execution_count": 37,
   "id": "9215c96b",
   "metadata": {},
   "outputs": [
    {
     "data": {
      "text/plain": [
       "[array([1.14327827]),\n",
       " array([1.01122261]),\n",
       " array([0.91411365]),\n",
       " array([0.86652043])]"
      ]
     },
     "execution_count": 37,
     "metadata": {},
     "output_type": "execute_result"
    }
   ],
   "source": [
    "fully_connected(last_pool, 4)"
   ]
  },
  {
   "cell_type": "code",
   "execution_count": 78,
   "id": "354f1f3a",
   "metadata": {},
   "outputs": [],
   "source": [
    "test_image = np.random.rand(10, 10, 4)"
   ]
  },
  {
   "cell_type": "code",
   "execution_count": 39,
   "id": "898dfa47",
   "metadata": {},
   "outputs": [],
   "source": [
    "test_kernel = np.random.rand(3, 3, 4)"
   ]
  },
  {
   "cell_type": "code",
   "execution_count": 40,
   "id": "037449c0",
   "metadata": {},
   "outputs": [],
   "source": [
    "def reshape_to_matrix_image(height, width, kernel_height, kernel_width, depth):\n",
    "    number_of_patches = np.prod(reshape_dimensions_convolution(height, width, kernel_height, kernel_width, 1))\n",
    "    each_patch_size = kernel_height * kernel_width * depth\n",
    "    return (number_of_patches, each_patch_size)"
   ]
  },
  {
   "cell_type": "code",
   "execution_count": 41,
   "id": "44ec5f2d",
   "metadata": {},
   "outputs": [
    {
     "data": {
      "text/plain": [
       "(25, 36)"
      ]
     },
     "execution_count": 41,
     "metadata": {},
     "output_type": "execute_result"
    }
   ],
   "source": [
    "reshape_to_matrix_image(7, 7, 3, 3, 4)"
   ]
  },
  {
   "cell_type": "code",
   "execution_count": 71,
   "id": "6ea6202e",
   "metadata": {},
   "outputs": [],
   "source": [
    "def convolve_one_step_vectorized(imput_image, kernel_used):\n",
    "    shape_of_image = imput_image.shape\n",
    "    kernel_used_shape = kernel_used.shape\n",
    "    dim_to_reshape = reshape_dimensions_convolution(shape_of_image[0], shape_of_image[1], kernel_used_shape[0], kernel_used_shape[1], 1)\n",
    "    reshaped_image  = reshape_to_matrix_valid(imput_image, (3, 3), 1, -1, 36)\n",
    "    reshaped_kernel = np.squeeze(reshape_to_matrix_valid(kernel_used, (3, 3), 1, -1, 1))\n",
    "    #pdb.set_trace()\n",
    "    vectorized_output = np.matmul(reshaped_image, reshaped_kernel)\n",
    "    return vectorized_output.reshape(dim_to_reshape)"
   ]
  },
  {
   "cell_type": "code",
   "execution_count": 79,
   "id": "28d91cac",
   "metadata": {},
   "outputs": [],
   "source": [
    "def reshape_to_matrix_valid(image, patch_size, stride, rA, rB):\n",
    "    shape = (image.shape[0] - patch_size[0] + 1,\n",
    "             image.shape[1] - patch_size[1] + 1,\n",
    "             patch_size[0],\n",
    "             patch_size[1],\n",
    "             image.shape[2])\n",
    "    #pdb.set_trace()\n",
    "    strides = (image.strides[0],\n",
    "               image.strides[1],\n",
    "               image.strides[0],\n",
    "               image.strides[1],\n",
    "               image.strides[2])\n",
    "    patches = as_strided(image, shape, strides)\n",
    "    #reshaped_patches = patches.reshape(rA, rB)\n",
    "    return patches.reshape(rA, rB)"
   ]
  },
  {
   "cell_type": "code",
   "execution_count": 49,
   "id": "79e721ba",
   "metadata": {},
   "outputs": [
    {
     "data": {
      "text/plain": [
       "(9, 1373568)"
      ]
     },
     "execution_count": 49,
     "metadata": {},
     "output_type": "execute_result"
    }
   ],
   "source": [
    "reshape_to_matrix_valid(array_image, (3, 3), 1, 9, -1)"
   ]
  },
  {
   "cell_type": "code",
   "execution_count": 75,
   "id": "14c8e389",
   "metadata": {},
   "outputs": [
    {
     "data": {
      "text/plain": [
       "(3, 3)"
      ]
     },
     "execution_count": 75,
     "metadata": {},
     "output_type": "execute_result"
    }
   ],
   "source": [
    "reshape_dimensions_convolution(5, 5, 3, 3, 1)"
   ]
  },
  {
   "cell_type": "code",
   "execution_count": 87,
   "id": "bcf4b96c",
   "metadata": {},
   "outputs": [],
   "source": [
    "a = convolve_one_step_vectorized(array_image, test_kernel)"
   ]
  },
  {
   "cell_type": "code",
   "execution_count": 89,
   "id": "96d56bc4",
   "metadata": {},
   "outputs": [],
   "source": [
    "b = convolve_one_step(array_image, test_kernel)"
   ]
  },
  {
   "cell_type": "code",
   "execution_count": 90,
   "id": "9c7e4874",
   "metadata": {},
   "outputs": [
    {
     "data": {
      "text/plain": [
       "array([[ True,  True,  True, ...,  True,  True,  True],\n",
       "       [ True,  True,  True, ...,  True,  True,  True],\n",
       "       [ True,  True,  True, ...,  True,  True,  True],\n",
       "       ...,\n",
       "       [ True,  True,  True, ...,  True,  True,  True],\n",
       "       [ True,  True,  True, ...,  True,  True,  True],\n",
       "       [ True,  True,  True, ...,  True,  True,  True]])"
      ]
     },
     "execution_count": 90,
     "metadata": {},
     "output_type": "execute_result"
    }
   ],
   "source": [
    "a == b"
   ]
  },
  {
   "cell_type": "code",
   "execution_count": 120,
   "id": "72c8c894",
   "metadata": {},
   "outputs": [],
   "source": [
    "test = np.random.rand(294, 292, 32)"
   ]
  },
  {
   "cell_type": "code",
   "execution_count": 123,
   "id": "59b8359e",
   "metadata": {},
   "outputs": [
    {
     "data": {
      "text/plain": [
       "array([[0.40892837, 0.98406771, 0.9291834 , ..., 0.85679094, 0.74733506,\n",
       "        0.95310039],\n",
       "       [0.83176372, 0.99945566, 0.56495447, ..., 0.81440245, 0.14831733,\n",
       "        0.18372342],\n",
       "       [0.60038196, 0.55074676, 0.72877485, ..., 0.15020271, 0.17161545,\n",
       "        0.60488458],\n",
       "       ...,\n",
       "       [0.35734984, 0.42391069, 0.88067068, ..., 0.92736611, 0.91783363,\n",
       "        0.94606488],\n",
       "       [0.30460019, 0.99665277, 0.96139911, ..., 0.10236035, 0.98055949,\n",
       "        0.97953185],\n",
       "       [0.55694384, 0.34237612, 0.0682504 , ..., 0.40025369, 0.43285598,\n",
       "        0.60214601]])"
      ]
     },
     "execution_count": 123,
     "metadata": {},
     "output_type": "execute_result"
    }
   ],
   "source": [
    "reshape_to_matrix_valid(test, (3, 3), 1, -1, 36)"
   ]
  },
  {
   "cell_type": "code",
   "execution_count": null,
   "id": "cd319944",
   "metadata": {},
   "outputs": [],
   "source": []
  }
 ],
 "metadata": {
  "kernelspec": {
   "display_name": "Python 3 (ipykernel)",
   "language": "python",
   "name": "python3"
  },
  "language_info": {
   "codemirror_mode": {
    "name": "ipython",
    "version": 3
   },
   "file_extension": ".py",
   "mimetype": "text/x-python",
   "name": "python",
   "nbconvert_exporter": "python",
   "pygments_lexer": "ipython3",
   "version": "3.11.7"
  }
 },
 "nbformat": 4,
 "nbformat_minor": 5
}
