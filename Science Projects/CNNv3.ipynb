{
 "cells": [
  {
   "cell_type": "code",
   "execution_count": 33,
   "id": "c1ecb639",
   "metadata": {},
   "outputs": [],
   "source": [
    "import numpy as np\n",
    "import pdb\n",
    "from PIL import Image\n",
    "from scipy import ndimage\n",
    "import os\n",
    "import unittest\n",
    "from scipy.ndimage import maximum_filter\n",
    "from numpy.lib.stride_tricks import as_strided"
   ]
  },
  {
   "cell_type": "code",
   "execution_count": 34,
   "id": "cf6256f2",
   "metadata": {},
   "outputs": [],
   "source": [
    "png_file = Image.open(\"C:\\\\Data\\\\2.png\")\n",
    "array_image = np.array(png_file)\n",
    "kernel_3d = np.random.rand(3, 3, 4)\n",
    "kernel_32d = np.random.rand(3, 3, 32)\n",
    "png_file_1 = Image.open(\"C:\\\\Data\\\\1.png\")\n",
    "array_image_1 = np.array(png_file_1)\n",
    "png_file_2 = Image.open(\"C:\\\\Data\\\\7.png\")\n",
    "array_image_2 = np.array(png_file_2)"
   ]
  },
  {
   "cell_type": "code",
   "execution_count": 35,
   "id": "0fe96224",
   "metadata": {},
   "outputs": [
    {
     "data": {
      "text/plain": [
       "array([[0.68194765, 0.9387682 ],\n",
       "       [0.20679594, 0.11044555]])"
      ]
     },
     "execution_count": 35,
     "metadata": {},
     "output_type": "execute_result"
    }
   ],
   "source": [
    "np.random.rand(2, 2)"
   ]
  },
  {
   "cell_type": "code",
   "execution_count": 36,
   "id": "761b4fe2",
   "metadata": {},
   "outputs": [
    {
     "data": {
      "text/plain": [
       "(343, 345, 4)"
      ]
     },
     "execution_count": 36,
     "metadata": {},
     "output_type": "execute_result"
    }
   ],
   "source": [
    "array_image_1.shape"
   ]
  },
  {
   "cell_type": "code",
   "execution_count": 37,
   "id": "9684a460",
   "metadata": {},
   "outputs": [],
   "source": [
    "test = np.random.rand(294, 292, 32)"
   ]
  },
  {
   "cell_type": "code",
   "execution_count": 38,
   "id": "ac240afa",
   "metadata": {},
   "outputs": [],
   "source": [
    "to_stack = []"
   ]
  },
  {
   "cell_type": "code",
   "execution_count": 39,
   "id": "d6bea79f",
   "metadata": {},
   "outputs": [
    {
     "data": {
      "text/plain": [
       "array([[[0.73397861, 0.64129455, 0.06803645, 0.34551223],\n",
       "        [0.43150178, 0.90597488, 0.78971113, 0.86288967],\n",
       "        [0.02461113, 0.48845781, 0.52370474, 0.36471879]],\n",
       "\n",
       "       [[0.2144196 , 0.3743208 , 0.68579489, 0.69816618],\n",
       "        [0.19957252, 0.92960974, 0.30832836, 0.12292809],\n",
       "        [0.57540116, 0.97282522, 0.77090232, 0.66802682]],\n",
       "\n",
       "       [[0.39748781, 0.96250743, 0.72480712, 0.50615882],\n",
       "        [0.53190362, 0.15114817, 0.62348178, 0.46887625],\n",
       "        [0.90264513, 0.26792892, 0.12351407, 0.22916688]]])"
      ]
     },
     "execution_count": 39,
     "metadata": {},
     "output_type": "execute_result"
    }
   ],
   "source": [
    "kernel_3d"
   ]
  },
  {
   "cell_type": "code",
   "execution_count": 40,
   "id": "5f47e16c",
   "metadata": {},
   "outputs": [],
   "source": [
    "def reshape_dimensions_convolution(input_height, input_width, filter_height, filter_width, stride):\n",
    "    output_height = int(((input_height - filter_height) / stride) + 1)\n",
    "    output_width  = int(((input_width - filter_width)  / stride) + 1)\n",
    "    return (output_height, output_width)"
   ]
  },
  {
   "cell_type": "code",
   "execution_count": 41,
   "id": "5a6dcfb1",
   "metadata": {},
   "outputs": [
    {
     "data": {
      "text/plain": [
       "(2, 2)"
      ]
     },
     "execution_count": 41,
     "metadata": {},
     "output_type": "execute_result"
    }
   ],
   "source": [
    "reshape_dimensions_convolution(3, 3, 2, 2, 1)"
   ]
  },
  {
   "cell_type": "code",
   "execution_count": 42,
   "id": "cbc94cd2",
   "metadata": {},
   "outputs": [],
   "source": [
    "def reshape_dimensions_pooling(input_height, input_width, f, s):\n",
    "    output_height = int(((input_height - f) / s) + 1)\n",
    "    output_width = int(((input_width - f) / s) + 1)\n",
    "    return (output_height, output_width)"
   ]
  },
  {
   "cell_type": "code",
   "execution_count": 43,
   "id": "bb417220",
   "metadata": {},
   "outputs": [],
   "source": [
    "def forward_pass(image):\n",
    "    shape = image.shape\n",
    "    kernels = create_kernels(32, 4)\n",
    "    kernels2 =  create_kernels(64, 32)\n",
    "    to_stack_values = []\n",
    "    dimensions = reshape_dimensions_convolution(shape[0], shape[1], 3, 3, 1) \n",
    "    for i in range(len(kernels)):\n",
    "        to_stack_values.append(np.squeeze(convolve_one_step(image, kernels[i]).reshape(dimensions[0], dimensions[1], 1)))\n",
    "    stacked_filters = np.stack(to_stack_values, axis = 2)\n",
    "    first_ReLU = ReLUv2(stacked_filters)\n",
    "    pool_to_reshape = reshape_dimensions_pooling(first_ReLU.shape[0], first_ReLU.shape[1], 2, 2)\n",
    "    first_max_pool = np.array(max_pooling(first_ReLU)).reshape(pool_to_reshape[0], pool_to_reshape[1], 32)\n",
    "    to_stack_values.clear()\n",
    "    shape2 = first_max_pool.shape\n",
    "    dimensions2 = reshape_dimensions_convolution(shape2[0], shape2[1], 3, 3, 1)\n",
    "    for f in range(len(kernels2)):\n",
    "        to_stack_values.append(np.squeeze(convolve_one_step(first_max_pool, kernels2[f]).reshape(dimensions2[0], dimensions2[1], 1)))\n",
    "    stacked_filters2 = np.stack(to_stack_values, axis = 2)\n",
    "    second_ReLU = np.array(ReLUv2(stacked_filters2))\n",
    "    pool_to_reshape2 = reshape_dimensions_pooling(second_ReLU.shape[0], second_ReLU.shape[1], 2, 2)\n",
    "    second_max_pool = np.array(max_pooling(second_ReLU).reshape(pool_to_reshape[2], pool_to_reshape[2]), 64)\n",
    "    return second_max_pool\n",
    "    "
   ]
  },
  {
   "cell_type": "code",
   "execution_count": 44,
   "id": "94385ef1",
   "metadata": {},
   "outputs": [],
   "source": [
    "#forward_pass(array_image)"
   ]
  },
  {
   "cell_type": "code",
   "execution_count": 45,
   "id": "e2a21e0c",
   "metadata": {},
   "outputs": [],
   "source": [
    "shajp = test.shape"
   ]
  },
  {
   "cell_type": "code",
   "execution_count": 46,
   "id": "b322db85",
   "metadata": {},
   "outputs": [],
   "source": [
    "to_reshape = reshape_dimensions_convolution(shajp[0], shajp[1], 3, 3, 1)"
   ]
  },
  {
   "cell_type": "code",
   "execution_count": 47,
   "id": "d2fed909",
   "metadata": {},
   "outputs": [
    {
     "ename": "NameError",
     "evalue": "name 'alfa' is not defined",
     "output_type": "error",
     "traceback": [
      "\u001b[1;31m---------------------------------------------------------------------------\u001b[0m",
      "\u001b[1;31mNameError\u001b[0m                                 Traceback (most recent call last)",
      "Cell \u001b[1;32mIn[47], line 1\u001b[0m\n\u001b[1;32m----> 1\u001b[0m alfa\u001b[38;5;241m.\u001b[39mshape\n",
      "\u001b[1;31mNameError\u001b[0m: name 'alfa' is not defined"
     ]
    }
   ],
   "source": [
    "alfa.shape"
   ]
  },
  {
   "cell_type": "code",
   "execution_count": 48,
   "id": "11536dab",
   "metadata": {},
   "outputs": [],
   "source": [
    "def create_kernels(number_to_create, depth):\n",
    "    every_kernel = []\n",
    "    for f_u in range(number_to_create):\n",
    "        every_kernel.append(np.random.rand(3, 3, depth))\n",
    "    return every_kernel"
   ]
  },
  {
   "cell_type": "code",
   "execution_count": 49,
   "id": "e3049033",
   "metadata": {},
   "outputs": [],
   "source": [
    "test_image = np.random.rand(10, 10, 4)"
   ]
  },
  {
   "cell_type": "code",
   "execution_count": 50,
   "id": "7c8cd443",
   "metadata": {},
   "outputs": [],
   "source": [
    "def convolve_one_step(input_image, kernel_used):\n",
    "    intermediate_values = []\n",
    "    dimensions = input_image.shape\n",
    "    final_values = []\n",
    "    for i in range(dimensions[0] - 2):\n",
    "        for j in range(dimensions[1] - 2):\n",
    "            for k in range(dimensions[2] ):\n",
    "                slice_of_image = input_image[i : i + 3, j : j + 3, k]\n",
    "                real_kernel = kernel_used[:, :, k]\n",
    "                value = np.vdot(slice_of_image, real_kernel)\n",
    "                intermediate_values.append(value)\n",
    "                #pdb.set_trace()\n",
    "                if len(intermediate_values) == dimensions[2]:\n",
    "                    final_values.append(sum_dimension(intermediate_values))\n",
    "                    intermediate_values.clear()\n",
    "    return np.array(final_values)"
   ]
  },
  {
   "cell_type": "code",
   "execution_count": 51,
   "id": "46848499",
   "metadata": {},
   "outputs": [],
   "source": [
    "def sum_dimension(list_of_three):\n",
    "    return sum(list_of_three)"
   ]
  },
  {
   "cell_type": "code",
   "execution_count": 52,
   "id": "cc9d5c83",
   "metadata": {},
   "outputs": [
    {
     "ename": "NameError",
     "evalue": "name 'dimensions' is not defined",
     "output_type": "error",
     "traceback": [
      "\u001b[1;31m---------------------------------------------------------------------------\u001b[0m",
      "\u001b[1;31mNameError\u001b[0m                                 Traceback (most recent call last)",
      "Cell \u001b[1;32mIn[52], line 1\u001b[0m\n\u001b[1;32m----> 1\u001b[0m image_after_conv_2 \u001b[38;5;241m=\u001b[39m np\u001b[38;5;241m.\u001b[39marray(convolve_one_step(array_image, kernel_3d))\u001b[38;5;241m.\u001b[39mreshape(dimensions[\u001b[38;5;241m0\u001b[39m], dimensions[\u001b[38;5;241m1\u001b[39m], \u001b[38;5;241m1\u001b[39m)\n",
      "\u001b[1;31mNameError\u001b[0m: name 'dimensions' is not defined"
     ]
    }
   ],
   "source": [
    "image_after_conv_2 = np.array(convolve_one_step(array_image, kernel_3d)).reshape(dimensions[0], dimensions[1], 1)"
   ]
  },
  {
   "cell_type": "code",
   "execution_count": 53,
   "id": "5b793538",
   "metadata": {},
   "outputs": [],
   "source": [
    "def max_pooling(image_array):\n",
    "    pooling_values = []\n",
    "    for m in range(0, image_array.shape[0], 2):\n",
    "        for n in range(0, image_array.shape[1], 2):\n",
    "            for o in range(image_array.shape[2]):\n",
    "                if n + 2 > image_array.shape[1]:\n",
    "                    slice_of_pooling = image_array[m : m + 2, n - 1: n + 1 , o]\n",
    "                else:\n",
    "                    slice_of_pooling = image_array[m : m + 2, n : n + 2 , o]\n",
    "                pooling_values.append(slice_of_pooling.max())\n",
    "                #pdb.set_trace()\n",
    "    return pooling_values"
   ]
  },
  {
   "cell_type": "code",
   "execution_count": 54,
   "id": "11b582d2",
   "metadata": {},
   "outputs": [],
   "source": [
    "filtr = test_image[0 : 2, 0 : 2, 0]"
   ]
  },
  {
   "cell_type": "code",
   "execution_count": 55,
   "id": "63feba0a",
   "metadata": {},
   "outputs": [],
   "source": [
    "after_maxpool = np.array(max_pooling(test_image)).reshape(5, 5, 4)"
   ]
  },
  {
   "cell_type": "code",
   "execution_count": 56,
   "id": "b401c15e",
   "metadata": {},
   "outputs": [
    {
     "data": {
      "text/plain": [
       "(5, 5, 4)"
      ]
     },
     "execution_count": 56,
     "metadata": {},
     "output_type": "execute_result"
    }
   ],
   "source": [
    "after_maxpool.shape"
   ]
  },
  {
   "cell_type": "code",
   "execution_count": 57,
   "id": "84089c4e",
   "metadata": {},
   "outputs": [],
   "source": [
    "def ReLUv1(x):\n",
    "    after_relu = []\n",
    "    for r in x:\n",
    "        if r > 0:\n",
    "            after_relu.append(r)\n",
    "        else:\n",
    "            after_relu.append(0)\n",
    "    return after_relu"
   ]
  },
  {
   "cell_type": "code",
   "execution_count": 58,
   "id": "09672ef6",
   "metadata": {},
   "outputs": [],
   "source": [
    "def ReLUv2(x):\n",
    "    return np.maximum(0, x)"
   ]
  },
  {
   "cell_type": "code",
   "execution_count": 59,
   "id": "a8f5d3c2",
   "metadata": {},
   "outputs": [],
   "source": [
    "last_pool = np.random.rand(2, 2, 1)"
   ]
  },
  {
   "cell_type": "code",
   "execution_count": 60,
   "id": "4803327d",
   "metadata": {},
   "outputs": [],
   "source": [
    "def fully_connected(after_last_max_pool, number_of_nodes):\n",
    "    almost_values = []\n",
    "    nodes_values = []\n",
    "    flatten_array = after_last_max_pool.reshape(4)\n",
    "    weights = np.random.rand(len(flatten_array), number_of_nodes)\n",
    "    for x in range(weights.shape[1]):\n",
    "        for y in range(weights.shape[0]):\n",
    "            if y == weights.shape[0] - 1:\n",
    "                almost_values.append(weights[y : y + 1, x] * flatten_array[y])\n",
    "                nodes_values.append(sum(almost_values))\n",
    "                almost_values.clear()\n",
    "            else:\n",
    "                almost_values.append(weights[y : y + 1, x] * flatten_array[y])\n",
    "    return nodes_values"
   ]
  },
  {
   "cell_type": "code",
   "execution_count": 61,
   "id": "9215c96b",
   "metadata": {},
   "outputs": [
    {
     "data": {
      "text/plain": [
       "[array([1.48537304]),\n",
       " array([0.77726137]),\n",
       " array([1.28790015]),\n",
       " array([1.24852192])]"
      ]
     },
     "execution_count": 61,
     "metadata": {},
     "output_type": "execute_result"
    }
   ],
   "source": [
    "fully_connected(last_pool, 4)"
   ]
  },
  {
   "cell_type": "code",
   "execution_count": 62,
   "id": "354f1f3a",
   "metadata": {},
   "outputs": [],
   "source": [
    "test_image = np.random.rand(5, 5, 4)"
   ]
  },
  {
   "cell_type": "code",
   "execution_count": 95,
   "id": "338d5d19",
   "metadata": {},
   "outputs": [],
   "source": [
    "test_kernel = np.random.rand(3, 3, 4)"
   ]
  },
  {
   "cell_type": "code",
   "execution_count": 63,
   "id": "037449c0",
   "metadata": {},
   "outputs": [],
   "source": [
    "def reshape_to_matrix_image(height, width, kernel_height, kernel_width, depth):\n",
    "    number_of_patches = np.prod(reshape_dimensions_convolution(height, width, kernel_height, kernel_width, 1))\n",
    "    each_patch_size = kernel_height * kernel_width * depth\n",
    "    return (number_of_patches, each_patch_size)"
   ]
  },
  {
   "cell_type": "code",
   "execution_count": 64,
   "id": "44ec5f2d",
   "metadata": {},
   "outputs": [
    {
     "data": {
      "text/plain": [
       "(25, 36)"
      ]
     },
     "execution_count": 64,
     "metadata": {},
     "output_type": "execute_result"
    }
   ],
   "source": [
    "reshape_to_matrix_image(7, 7, 3, 3, 4)"
   ]
  },
  {
   "cell_type": "code",
   "execution_count": 173,
   "id": "6ea6202e",
   "metadata": {},
   "outputs": [],
   "source": [
    "def convolve_one_step_vectorized(imput_image, kernel_used):\n",
    "    shape_of_image = imput_image.shape\n",
    "    kernel_used_shape = kernel_used.shape\n",
    "    dim_to_reshape = reshape_dimensions_convolution(shape_of_image[0], shape_of_image[1], kernel_used_shape[0], kernel_used_shape[1], 1)\n",
    "    reshaped_image  = reshape_to_matrix_valid(imput_image, (3, 3), 1, 9, -1)\n",
    "    reshaped_kernel = np.squeeze(reshape_to_matrix_valid(kernel_used, (3, 3), 1, -1, 1))\n",
    "    vectorized_output = np.matmul(reshaped_image, reshaped_kernel)\n",
    "    return vectorized_output.reshape(dim_to_reshape)"
   ]
  },
  {
   "cell_type": "code",
   "execution_count": 170,
   "id": "28d91cac",
   "metadata": {},
   "outputs": [],
   "source": [
    "def reshape_to_matrix_valid(image, patch_size, stride, rA, rB):\n",
    "    shape = (image.shape[0] - patch_size[0] + 1,\n",
    "             image.shape[1] - patch_size[1] + 1,\n",
    "             patch_size[0],\n",
    "             patch_size[1],\n",
    "             image.shape[2])\n",
    "    strides = (image.strides[0],\n",
    "               image.strides[1],\n",
    "               image.strides[0],\n",
    "               image.strides[1],\n",
    "               image.strides[2])\n",
    "    patches = as_strided(image, shape, strides)\n",
    "    reshaped_patches = patches.reshape(rA, rB)\n",
    "    return reshaped_patches"
   ]
  },
  {
   "cell_type": "code",
   "execution_count": 175,
   "id": "a99e7a65",
   "metadata": {},
   "outputs": [
    {
     "data": {
      "text/plain": [
       "array([[8.87827426, 8.00065074, 9.00165848],\n",
       "       [6.86961361, 7.73265371, 8.82710737],\n",
       "       [6.73487624, 8.26072762, 8.43180012]])"
      ]
     },
     "execution_count": 175,
     "metadata": {},
     "output_type": "execute_result"
    }
   ],
   "source": [
    "convolve_one_step_vectorized(test_image, test_kernel)"
   ]
  },
  {
   "cell_type": "code",
   "execution_count": 140,
   "id": "364b8ffa",
   "metadata": {},
   "outputs": [
    {
     "data": {
      "text/plain": [
       "5"
      ]
     },
     "execution_count": 140,
     "metadata": {},
     "output_type": "execute_result"
    }
   ],
   "source": [
    "test_image.shape[0]"
   ]
  },
  {
   "cell_type": "code",
   "execution_count": 157,
   "id": "81b7f3ac",
   "metadata": {},
   "outputs": [
    {
     "data": {
      "text/plain": [
       "(3, 3)"
      ]
     },
     "execution_count": 157,
     "metadata": {},
     "output_type": "execute_result"
    }
   ],
   "source": [
    "reshape_dimensions_convolution(5, 5, 3, 3, 1)"
   ]
  },
  {
   "cell_type": "code",
   "execution_count": null,
   "id": "50b160d4",
   "metadata": {},
   "outputs": [],
   "source": []
  }
 ],
 "metadata": {
  "kernelspec": {
   "display_name": "Python 3 (ipykernel)",
   "language": "python",
   "name": "python3"
  },
  "language_info": {
   "codemirror_mode": {
    "name": "ipython",
    "version": 3
   },
   "file_extension": ".py",
   "mimetype": "text/x-python",
   "name": "python",
   "nbconvert_exporter": "python",
   "pygments_lexer": "ipython3",
   "version": "3.11.7"
  }
 },
 "nbformat": 4,
 "nbformat_minor": 5
}
