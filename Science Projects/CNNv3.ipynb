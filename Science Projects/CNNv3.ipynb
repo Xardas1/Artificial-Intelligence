{
 "cells": [
  {
   "cell_type": "code",
   "execution_count": 3,
   "id": "c1ecb639",
   "metadata": {},
   "outputs": [],
   "source": [
    "import numpy as np\n",
    "import pdb\n",
    "from PIL import Image\n",
    "from scipy import ndimage\n",
    "import os\n",
    "import unittest\n",
    "from scipy.ndimage import maximum_filter\n",
    "from numpy.lib.stride_tricks import as_strided"
   ]
  },
  {
   "cell_type": "code",
   "execution_count": 4,
   "id": "cf6256f2",
   "metadata": {},
   "outputs": [],
   "source": [
    "png_file = Image.open(\"C:\\\\Data\\\\2.png\")\n",
    "array_image = np.array(png_file)\n",
    "kernel_3d = np.random.rand(3, 3, 4)\n",
    "kernel_32d = np.random.rand(3, 3, 32)\n",
    "png_file_1 = Image.open(\"C:\\\\Data\\\\1.png\")\n",
    "array_image_1 = np.array(png_file_1)\n",
    "png_file_2 = Image.open(\"C:\\\\Data\\\\7.png\")\n",
    "array_image_2 = np.array(png_file_2)"
   ]
  },
  {
   "cell_type": "code",
   "execution_count": 5,
   "id": "02e3d2c3",
   "metadata": {},
   "outputs": [
    {
     "data": {
      "text/plain": [
       "(590, 586, 4)"
      ]
     },
     "execution_count": 5,
     "metadata": {},
     "output_type": "execute_result"
    }
   ],
   "source": [
    "array_image.shape"
   ]
  },
  {
   "cell_type": "code",
   "execution_count": 6,
   "id": "0fe96224",
   "metadata": {},
   "outputs": [
    {
     "data": {
      "text/plain": [
       "array([[0.2323778 , 0.52880543],\n",
       "       [0.48303715, 0.71540161]])"
      ]
     },
     "execution_count": 6,
     "metadata": {},
     "output_type": "execute_result"
    }
   ],
   "source": [
    "np.random.rand(2, 2)"
   ]
  },
  {
   "cell_type": "code",
   "execution_count": 7,
   "id": "761b4fe2",
   "metadata": {},
   "outputs": [
    {
     "data": {
      "text/plain": [
       "(343, 345, 4)"
      ]
     },
     "execution_count": 7,
     "metadata": {},
     "output_type": "execute_result"
    }
   ],
   "source": [
    "array_image_1.shape"
   ]
  },
  {
   "cell_type": "code",
   "execution_count": 8,
   "id": "9684a460",
   "metadata": {},
   "outputs": [],
   "source": [
    "test = np.random.rand(294, 292, 32)"
   ]
  },
  {
   "cell_type": "code",
   "execution_count": 9,
   "id": "ac240afa",
   "metadata": {},
   "outputs": [],
   "source": [
    "to_stack = []"
   ]
  },
  {
   "cell_type": "code",
   "execution_count": 10,
   "id": "d6bea79f",
   "metadata": {},
   "outputs": [
    {
     "ename": "NameError",
     "evalue": "name 'create_kernels' is not defined",
     "output_type": "error",
     "traceback": [
      "\u001b[1;31m---------------------------------------------------------------------------\u001b[0m",
      "\u001b[1;31mNameError\u001b[0m                                 Traceback (most recent call last)",
      "Cell \u001b[1;32mIn[10], line 1\u001b[0m\n\u001b[1;32m----> 1\u001b[0m t \u001b[38;5;241m=\u001b[39m np\u001b[38;5;241m.\u001b[39marray(create_kernels(\u001b[38;5;241m64\u001b[39m, \u001b[38;5;241m32\u001b[39m))\n",
      "\u001b[1;31mNameError\u001b[0m: name 'create_kernels' is not defined"
     ]
    }
   ],
   "source": [
    "t = np.array(create_kernels(64, 32))"
   ]
  },
  {
   "cell_type": "code",
   "execution_count": 11,
   "id": "f2d0c6e4",
   "metadata": {},
   "outputs": [
    {
     "ename": "NameError",
     "evalue": "name 't' is not defined",
     "output_type": "error",
     "traceback": [
      "\u001b[1;31m---------------------------------------------------------------------------\u001b[0m",
      "\u001b[1;31mNameError\u001b[0m                                 Traceback (most recent call last)",
      "Cell \u001b[1;32mIn[11], line 1\u001b[0m\n\u001b[1;32m----> 1\u001b[0m t\u001b[38;5;241m.\u001b[39mshape\n",
      "\u001b[1;31mNameError\u001b[0m: name 't' is not defined"
     ]
    }
   ],
   "source": [
    "t.shape"
   ]
  },
  {
   "cell_type": "code",
   "execution_count": 12,
   "id": "5f47e16c",
   "metadata": {},
   "outputs": [],
   "source": [
    "def reshape_dimensions_convolution(input_height, input_width, filter_height, filter_width, stride):\n",
    "    output_height = int(((input_height - filter_height) / stride) + 1)\n",
    "    output_width  = int(((input_width - filter_width)  / stride) + 1)\n",
    "    return (output_height, output_width)"
   ]
  },
  {
   "cell_type": "code",
   "execution_count": 13,
   "id": "5a6dcfb1",
   "metadata": {},
   "outputs": [
    {
     "data": {
      "text/plain": [
       "(2, 2)"
      ]
     },
     "execution_count": 13,
     "metadata": {},
     "output_type": "execute_result"
    }
   ],
   "source": [
    "reshape_dimensions_convolution(3, 3, 2, 2, 1)"
   ]
  },
  {
   "cell_type": "code",
   "execution_count": 14,
   "id": "cbc94cd2",
   "metadata": {},
   "outputs": [],
   "source": [
    "def reshape_dimensions_pooling(input_height, input_width, f, s):\n",
    "    output_height = int(((input_height - f) / s) + 1)\n",
    "    output_width = int(((input_width - f) / s) + 1)\n",
    "    return (output_height, output_width)"
   ]
  },
  {
   "cell_type": "code",
   "execution_count": 124,
   "id": "bb417220",
   "metadata": {},
   "outputs": [],
   "source": [
    "def forward_pass(image):\n",
    "    shape = image.shape\n",
    "    kernels = create_kernels(32, 4)\n",
    "    kernels2 =  create_kernels(64, 32)\n",
    "    to_stack_values = []\n",
    "    dimensions = reshape_dimensions_convolution(shape[0], shape[1], 3, 3, 1) \n",
    "    for i in range(len(kernels)):\n",
    "        to_stack_values.append(convolve_one_step_vectorized(image, kernels[i], 36))\n",
    "    stacked_filters = np.stack(to_stack_values, axis = 2)\n",
    "    first_ReLU = ReLUv2(stacked_filters)\n",
    "    pool_to_reshape = reshape_dimensions_pooling(first_ReLU.shape[0], first_ReLU.shape[1], 2, 2)\n",
    "    first_max_pool = np.array(max_pooling(first_ReLU)).reshape(pool_to_reshape[0], pool_to_reshape[1], 32)\n",
    "    to_stack_values.clear()\n",
    "    shape2 = first_max_pool.shape\n",
    "    for f in range(len(kernels2)):\n",
    "        to_stack_values.append(convolve_one_step_vectorized(first_max_pool, kernels2[f], 288))\n",
    "    stacked_filters2 = np.stack(to_stack_values, axis = 2)\n",
    "    second_ReLU = ReLUv2(stacked_filters2)\n",
    "    pool_to_reshape2 = reshape_dimensions_pooling(second_ReLU.shape[0], second_ReLU.shape[1], 2, 2)\n",
    "    second_max_pool = np.array(max_pooling(second_ReLU)).reshape(pool_to_reshape2[0], pool_to_reshape2[1], 64)\n",
    "    fully_connected = fully_connected(second_max_pool, 120)\n",
    "    classification = fully_connected(fully_connected, 10)\n",
    "    softmax = More_Robust_Softmax(classification)\n",
    "    return softmax\n",
    "    \"\"\"\n",
    "    stacked_filters2 = np.stack(to_stack_values, axis = 2)\n",
    "    second_ReLU = np.array(ReLUv2(stacked_filters2))\n",
    "    pool_to_reshape2 = reshape_dimensions_pooling(second_ReLU.shape[0], second_ReLU.shape[1], 2, 2)\n",
    "    second_max_pool = np.array(max_pooling(second_ReLU).reshape(pool_to_reshape[2], pool_to_reshape[2]), 64)\n",
    "    return second_max_pool\n",
    "    \"\"\""
   ]
  },
  {
   "cell_type": "code",
   "execution_count": 77,
   "id": "3781cc44",
   "metadata": {},
   "outputs": [
    {
     "data": {
      "text/plain": [
       "(146, 145, 64)"
      ]
     },
     "execution_count": 77,
     "metadata": {},
     "output_type": "execute_result"
    }
   ],
   "source": [
    "forward_pass(array_image)"
   ]
  },
  {
   "cell_type": "code",
   "execution_count": 19,
   "id": "e2a21e0c",
   "metadata": {},
   "outputs": [],
   "source": [
    "shajp = test.shape"
   ]
  },
  {
   "cell_type": "code",
   "execution_count": 20,
   "id": "b322db85",
   "metadata": {},
   "outputs": [],
   "source": [
    "to_reshape = reshape_dimensions_convolution(shajp[0], shajp[1], 3, 3, 1)"
   ]
  },
  {
   "cell_type": "code",
   "execution_count": 21,
   "id": "d2fed909",
   "metadata": {},
   "outputs": [
    {
     "ename": "NameError",
     "evalue": "name 'alfa' is not defined",
     "output_type": "error",
     "traceback": [
      "\u001b[1;31m---------------------------------------------------------------------------\u001b[0m",
      "\u001b[1;31mNameError\u001b[0m                                 Traceback (most recent call last)",
      "Cell \u001b[1;32mIn[21], line 1\u001b[0m\n\u001b[1;32m----> 1\u001b[0m alfa\u001b[38;5;241m.\u001b[39mshape\n",
      "\u001b[1;31mNameError\u001b[0m: name 'alfa' is not defined"
     ]
    }
   ],
   "source": [
    "alfa.shape"
   ]
  },
  {
   "cell_type": "code",
   "execution_count": 22,
   "id": "11536dab",
   "metadata": {},
   "outputs": [],
   "source": [
    "def create_kernels(number_to_create, depth):\n",
    "    every_kernel = []\n",
    "    for f_u in range(number_to_create):\n",
    "        every_kernel.append(np.random.rand(3, 3, depth))\n",
    "    return np.array(every_kernel)"
   ]
  },
  {
   "cell_type": "code",
   "execution_count": 23,
   "id": "e3049033",
   "metadata": {},
   "outputs": [],
   "source": [
    "test_image = np.random.rand(10, 10, 4)"
   ]
  },
  {
   "cell_type": "code",
   "execution_count": 24,
   "id": "7c8cd443",
   "metadata": {},
   "outputs": [],
   "source": [
    "def convolve_one_step(input_image, kernel_used):\n",
    "    intermediate_values = []\n",
    "    dimensions = input_image.shape\n",
    "    dimensions_kernel = kernel_used.shape\n",
    "    final_values = []\n",
    "    dimensions_to_reshape = reshape_dimensions_convolution(dimensions[0], dimensions[1], dimensions_kernel[0], dimensions_kernel[1], 1)\n",
    "    for i in range(dimensions[0] - 2):\n",
    "        for j in range(dimensions[1] - 2):\n",
    "            for k in range(dimensions[2] ):\n",
    "                slice_of_image = input_image[i : i + 3, j : j + 3, k]\n",
    "                real_kernel = kernel_used[:, :, k]\n",
    "                value = np.vdot(slice_of_image, real_kernel)\n",
    "                intermediate_values.append(value)\n",
    "                #pdb.set_trace()\n",
    "                if len(intermediate_values) == dimensions[2]:\n",
    "                    final_values.append(sum_dimension(intermediate_values))\n",
    "                    intermediate_values.clear()\n",
    "    return np.array(final_values).reshape(dimensions_to_reshape)"
   ]
  },
  {
   "cell_type": "code",
   "execution_count": 25,
   "id": "46848499",
   "metadata": {},
   "outputs": [],
   "source": [
    "def sum_dimension(list_of_three):\n",
    "    return sum(list_of_three)"
   ]
  },
  {
   "cell_type": "code",
   "execution_count": 26,
   "id": "cc9d5c83",
   "metadata": {},
   "outputs": [
    {
     "ename": "NameError",
     "evalue": "name 'dimensions' is not defined",
     "output_type": "error",
     "traceback": [
      "\u001b[1;31m---------------------------------------------------------------------------\u001b[0m",
      "\u001b[1;31mNameError\u001b[0m                                 Traceback (most recent call last)",
      "Cell \u001b[1;32mIn[26], line 1\u001b[0m\n\u001b[1;32m----> 1\u001b[0m image_after_conv_2 \u001b[38;5;241m=\u001b[39m np\u001b[38;5;241m.\u001b[39marray(convolve_one_step(array_image, kernel_3d))\u001b[38;5;241m.\u001b[39mreshape(dimensions[\u001b[38;5;241m0\u001b[39m], dimensions[\u001b[38;5;241m1\u001b[39m], \u001b[38;5;241m1\u001b[39m)\n",
      "\u001b[1;31mNameError\u001b[0m: name 'dimensions' is not defined"
     ]
    }
   ],
   "source": [
    "image_after_conv_2 = np.array(convolve_one_step(array_image, kernel_3d)).reshape(dimensions[0], dimensions[1], 1)"
   ]
  },
  {
   "cell_type": "code",
   "execution_count": 42,
   "id": "5b793538",
   "metadata": {},
   "outputs": [],
   "source": [
    "def max_pooling(image_array):\n",
    "    pooling_values = []\n",
    "    for m in range(0, image_array.shape[0], 2):\n",
    "        for n in range(0, image_array.shape[1], 2):\n",
    "            for o in range(image_array.shape[2]):\n",
    "                if n + 2 > image_array.shape[1]:\n",
    "                    slice_of_pooling = image_array[m : m + 2, n - 1: n + 1 , o]\n",
    "                else:\n",
    "                    slice_of_pooling = image_array[m : m + 2, n : n + 2 , o]\n",
    "                pooling_values.append(slice_of_pooling.max())\n",
    "                #pdb.set_trace()\n",
    "    return pooling_values"
   ]
  },
  {
   "cell_type": "code",
   "execution_count": null,
   "id": "11b582d2",
   "metadata": {},
   "outputs": [],
   "source": [
    "filtr = test_image[0 : 2, 0 : 2, 0]"
   ]
  },
  {
   "cell_type": "code",
   "execution_count": null,
   "id": "63feba0a",
   "metadata": {},
   "outputs": [],
   "source": [
    "after_maxpool = np.array(max_pooling(test_image)).reshape(5, 5, 4)"
   ]
  },
  {
   "cell_type": "code",
   "execution_count": null,
   "id": "b401c15e",
   "metadata": {},
   "outputs": [],
   "source": [
    "after_maxpool.shape"
   ]
  },
  {
   "cell_type": "code",
   "execution_count": null,
   "id": "84089c4e",
   "metadata": {},
   "outputs": [],
   "source": [
    "def ReLUv1(x):\n",
    "    after_relu = []\n",
    "    for r in x:\n",
    "        if r > 0:\n",
    "            after_relu.append(r)\n",
    "        else:\n",
    "            after_relu.append(0)\n",
    "    return after_relu"
   ]
  },
  {
   "cell_type": "code",
   "execution_count": 39,
   "id": "09672ef6",
   "metadata": {},
   "outputs": [],
   "source": [
    "def ReLUv2(x):\n",
    "    return np.maximum(0, x)"
   ]
  },
  {
   "cell_type": "code",
   "execution_count": 90,
   "id": "667fe5e1",
   "metadata": {},
   "outputs": [],
   "source": [
    "misa = np.random.rand(145, 146, 64)"
   ]
  },
  {
   "cell_type": "code",
   "execution_count": 91,
   "id": "a8f5d3c2",
   "metadata": {},
   "outputs": [],
   "source": [
    "last_pool = np.random.rand(2, 2, 1)"
   ]
  },
  {
   "cell_type": "code",
   "execution_count": 126,
   "id": "08c47284",
   "metadata": {},
   "outputs": [],
   "source": [
    "bias = np.random.rand(120)"
   ]
  },
  {
   "cell_type": "code",
   "execution_count": 128,
   "id": "0e3e3333",
   "metadata": {},
   "outputs": [
    {
     "data": {
      "text/plain": [
       "0.7248374207878752"
      ]
     },
     "execution_count": 128,
     "metadata": {},
     "output_type": "execute_result"
    }
   ],
   "source": [
    "bias[0]"
   ]
  },
  {
   "cell_type": "code",
   "execution_count": 136,
   "id": "4803327d",
   "metadata": {},
   "outputs": [],
   "source": [
    "def fully_connected(after_last_max_pool, number_of_nodes, bias):\n",
    "    almost_values = []\n",
    "    nodes_values = []\n",
    "    shape_of_flatten = np.prod(after_last_max_pool.shape)\n",
    "    flatten_array = after_last_max_pool.reshape(shape_of_flatten)\n",
    "    pdb.set_trace()\n",
    "    weights = np.random.rand(len(flatten_array), number_of_nodes)\n",
    "    pdb.set_trace()\n",
    "    for x in range(weights.shape[1]):\n",
    "        for y in range(weights.shape[0]):\n",
    "            if y == weights.shape[0] - 1:\n",
    "                almost_values.append(weights[y : y + 1, x] * flatten_array[y])\n",
    "                nodes_values.append(sum(almost_values) + bias[x])\n",
    "                almost_values.clear()\n",
    "            else:\n",
    "                almost_values.append(weights[y : y + 1, x] * flatten_array[y] + bias[y])\n",
    "    return np.squeeze(np.array(nodes_values))"
   ]
  },
  {
   "cell_type": "code",
   "execution_count": 100,
   "id": "fd77673e",
   "metadata": {},
   "outputs": [],
   "source": [
    "a = np.array([])"
   ]
  },
  {
   "cell_type": "code",
   "execution_count": 125,
   "id": "13c5a515",
   "metadata": {},
   "outputs": [
    {
     "data": {
      "text/plain": [
       "1354880"
      ]
     },
     "execution_count": 125,
     "metadata": {},
     "output_type": "execute_result"
    }
   ],
   "source": [
    "np.prod((146, 145, 64))"
   ]
  },
  {
   "cell_type": "code",
   "execution_count": 101,
   "id": "19769c18",
   "metadata": {},
   "outputs": [
    {
     "data": {
      "text/plain": [
       "(120, 1)"
      ]
     },
     "execution_count": 101,
     "metadata": {},
     "output_type": "execute_result"
    }
   ],
   "source": [
    "fully_connected(misa, 120)"
   ]
  },
  {
   "cell_type": "code",
   "execution_count": null,
   "id": "9215c96b",
   "metadata": {},
   "outputs": [],
   "source": [
    "fully_connected(last_pool, 4)"
   ]
  },
  {
   "cell_type": "code",
   "execution_count": null,
   "id": "354f1f3a",
   "metadata": {},
   "outputs": [],
   "source": [
    "test_image = np.random.rand(10, 10, 4)"
   ]
  },
  {
   "cell_type": "code",
   "execution_count": null,
   "id": "898dfa47",
   "metadata": {},
   "outputs": [],
   "source": [
    "test_kernel = np.random.rand(3, 3, 4)"
   ]
  },
  {
   "cell_type": "code",
   "execution_count": 43,
   "id": "037449c0",
   "metadata": {},
   "outputs": [],
   "source": [
    "def reshape_to_matrix_image(height, width, kernel_height, kernel_width, depth):\n",
    "    number_of_patches = np.prod(reshape_dimensions_convolution(height, width, kernel_height, kernel_width, 1))\n",
    "    each_patch_size = kernel_height * kernel_width * depth\n",
    "    return (number_of_patches, each_patch_size)"
   ]
  },
  {
   "cell_type": "code",
   "execution_count": 44,
   "id": "44ec5f2d",
   "metadata": {},
   "outputs": [
    {
     "data": {
      "text/plain": [
       "(25, 36)"
      ]
     },
     "execution_count": 44,
     "metadata": {},
     "output_type": "execute_result"
    }
   ],
   "source": [
    "reshape_to_matrix_image(7, 7, 3, 3, 4)"
   ]
  },
  {
   "cell_type": "code",
   "execution_count": 47,
   "id": "6ea6202e",
   "metadata": {},
   "outputs": [],
   "source": [
    "def convolve_one_step_vectorized(imput_image, kernel_used, matmuldim):\n",
    "    shape_of_image = imput_image.shape\n",
    "    kernel_used_shape = kernel_used.shape\n",
    "    dim_to_reshape = reshape_dimensions_convolution(shape_of_image[0], shape_of_image[1], kernel_used_shape[0], kernel_used_shape[1], 1)\n",
    "    reshaped_image  = reshape_to_matrix_valid(imput_image, (3, 3), 1, -1, matmuldim)\n",
    "    reshaped_kernel = np.squeeze(reshape_to_matrix_valid(kernel_used, (3, 3), 1, -1, 1))\n",
    "    #pdb.set_trace()\n",
    "    vectorized_output = np.matmul(reshaped_image, reshaped_kernel)\n",
    "    return vectorized_output.reshape(dim_to_reshape)"
   ]
  },
  {
   "cell_type": "code",
   "execution_count": 48,
   "id": "28d91cac",
   "metadata": {},
   "outputs": [],
   "source": [
    "def reshape_to_matrix_valid(image, patch_size, stride, rA, rB):\n",
    "    shape = (image.shape[0] - patch_size[0] + 1,\n",
    "             image.shape[1] - patch_size[1] + 1,\n",
    "             patch_size[0],\n",
    "             patch_size[1],\n",
    "             image.shape[2])\n",
    "    #pdb.set_trace()\n",
    "    strides = (image.strides[0],\n",
    "               image.strides[1],\n",
    "               image.strides[0],\n",
    "               image.strides[1],\n",
    "               image.strides[2])\n",
    "    patches = as_strided(image, shape, strides)\n",
    "    #reshaped_patches = patches.reshape(rA, rB)\n",
    "    return patches.reshape(rA, rB)"
   ]
  },
  {
   "cell_type": "code",
   "execution_count": 29,
   "id": "79e721ba",
   "metadata": {},
   "outputs": [
    {
     "data": {
      "text/plain": [
       "array([[255, 255, 255, ..., 255, 255, 255],\n",
       "       [255, 255, 255, ...,  32,  32, 255],\n",
       "       [  0,   0,   0, ..., 255, 255, 255],\n",
       "       ...,\n",
       "       [255, 255, 255, ..., 174, 174, 255],\n",
       "       [235, 235, 235, ..., 255, 255, 255],\n",
       "       [255, 255, 255, ..., 255, 255, 255]], dtype=uint8)"
      ]
     },
     "execution_count": 29,
     "metadata": {},
     "output_type": "execute_result"
    }
   ],
   "source": [
    "reshape_to_matrix_valid(array_image, (3, 3), 1, 9, -1)"
   ]
  },
  {
   "cell_type": "code",
   "execution_count": 30,
   "id": "ec2ba44a",
   "metadata": {},
   "outputs": [
    {
     "data": {
      "text/plain": [
       "(3, 3)"
      ]
     },
     "execution_count": 30,
     "metadata": {},
     "output_type": "execute_result"
    }
   ],
   "source": [
    "reshape_dimensions_convolution(5, 5, 3, 3, 1)"
   ]
  },
  {
   "cell_type": "code",
   "execution_count": 31,
   "id": "bcf4b96c",
   "metadata": {},
   "outputs": [
    {
     "ename": "NameError",
     "evalue": "name 'test_kernel' is not defined",
     "output_type": "error",
     "traceback": [
      "\u001b[1;31m---------------------------------------------------------------------------\u001b[0m",
      "\u001b[1;31mNameError\u001b[0m                                 Traceback (most recent call last)",
      "Cell \u001b[1;32mIn[31], line 1\u001b[0m\n\u001b[1;32m----> 1\u001b[0m a \u001b[38;5;241m=\u001b[39m convolve_one_step_vectorized(array_image, test_kernel)\n",
      "\u001b[1;31mNameError\u001b[0m: name 'test_kernel' is not defined"
     ]
    }
   ],
   "source": [
    "a = convolve_one_step_vectorized(array_image, test_kernel)"
   ]
  },
  {
   "cell_type": "code",
   "execution_count": 32,
   "id": "332a1fab",
   "metadata": {},
   "outputs": [
    {
     "ename": "NameError",
     "evalue": "name 'test_kernel' is not defined",
     "output_type": "error",
     "traceback": [
      "\u001b[1;31m---------------------------------------------------------------------------\u001b[0m",
      "\u001b[1;31mNameError\u001b[0m                                 Traceback (most recent call last)",
      "Cell \u001b[1;32mIn[32], line 1\u001b[0m\n\u001b[1;32m----> 1\u001b[0m b \u001b[38;5;241m=\u001b[39m convolve_one_step(array_image, test_kernel)\n",
      "\u001b[1;31mNameError\u001b[0m: name 'test_kernel' is not defined"
     ]
    }
   ],
   "source": [
    "b = convolve_one_step(array_image, test_kernel)"
   ]
  },
  {
   "cell_type": "code",
   "execution_count": 33,
   "id": "5c9e86a4",
   "metadata": {},
   "outputs": [
    {
     "ename": "NameError",
     "evalue": "name 'a' is not defined",
     "output_type": "error",
     "traceback": [
      "\u001b[1;31m---------------------------------------------------------------------------\u001b[0m",
      "\u001b[1;31mNameError\u001b[0m                                 Traceback (most recent call last)",
      "Cell \u001b[1;32mIn[33], line 1\u001b[0m\n\u001b[1;32m----> 1\u001b[0m a \u001b[38;5;241m==\u001b[39m b\n",
      "\u001b[1;31mNameError\u001b[0m: name 'a' is not defined"
     ]
    }
   ],
   "source": [
    "a == b"
   ]
  },
  {
   "cell_type": "code",
   "execution_count": 34,
   "id": "e71b0d07",
   "metadata": {},
   "outputs": [],
   "source": [
    "test = np.random.rand(294, 292, 32)"
   ]
  },
  {
   "cell_type": "code",
   "execution_count": 35,
   "id": "acd84205",
   "metadata": {},
   "outputs": [
    {
     "data": {
      "text/plain": [
       "array([[0.20681253, 0.80835766, 0.38597403, ..., 0.01517015, 0.31011848,\n",
       "        0.71930138],\n",
       "       [0.65423651, 0.43844318, 0.33000965, ..., 0.89121916, 0.81869301,\n",
       "        0.51871138],\n",
       "       [0.57388651, 0.26497996, 0.94762847, ..., 0.97711944, 0.59958313,\n",
       "        0.89740574],\n",
       "       ...,\n",
       "       [0.37852654, 0.85882519, 0.22913201, ..., 0.13118685, 0.10113197,\n",
       "        0.7171832 ],\n",
       "       [0.41338112, 0.6861293 , 0.743424  , ..., 0.4350309 , 0.13967408,\n",
       "        0.71134418],\n",
       "       [0.62819449, 0.64891033, 0.83085349, ..., 0.52659828, 0.34193572,\n",
       "        0.70928081]])"
      ]
     },
     "execution_count": 35,
     "metadata": {},
     "output_type": "execute_result"
    }
   ],
   "source": [
    "reshape_to_matrix_valid(test, (3, 3), 1, -1, 36)"
   ]
  },
  {
   "cell_type": "code",
   "execution_count": 113,
   "id": "8843a74c",
   "metadata": {},
   "outputs": [],
   "source": [
    "def Softmax(values):\n",
    "    numerator = np.exp(values)\n",
    "    denominator = np.sum(numerator)\n",
    "    return numerator / denominator"
   ]
  },
  {
   "cell_type": "code",
   "execution_count": 121,
   "id": "f27f647e",
   "metadata": {},
   "outputs": [],
   "source": [
    "def More_Robust_Softmax(values):\n",
    "    numerator = np.exp(values - np.max(values))\n",
    "    denominator = np.sum(numerator)\n",
    "    return numerator / denominator"
   ]
  },
  {
   "cell_type": "code",
   "execution_count": 103,
   "id": "92b41616",
   "metadata": {},
   "outputs": [],
   "source": [
    "ol = np.array([5, 4, -1])"
   ]
  },
  {
   "cell_type": "code",
   "execution_count": 104,
   "id": "d607360c",
   "metadata": {},
   "outputs": [
    {
     "data": {
      "text/plain": [
       "array([148.4131591 ,  54.59815003,   0.36787944])"
      ]
     },
     "execution_count": 104,
     "metadata": {},
     "output_type": "execute_result"
    }
   ],
   "source": [
    "np.exp(ol)"
   ]
  },
  {
   "cell_type": "code",
   "execution_count": 130,
   "id": "5f5e48b2",
   "metadata": {},
   "outputs": [],
   "source": [
    "a = np.random.rand(120)"
   ]
  },
  {
   "cell_type": "code",
   "execution_count": 107,
   "id": "4be0c0b4",
   "metadata": {},
   "outputs": [
    {
     "data": {
      "text/plain": [
       "(120,)"
      ]
     },
     "execution_count": 107,
     "metadata": {},
     "output_type": "execute_result"
    }
   ],
   "source": [
    "a.shape"
   ]
  },
  {
   "cell_type": "code",
   "execution_count": null,
   "id": "12f5c458",
   "metadata": {},
   "outputs": [
    {
     "name": "stdout",
     "output_type": "stream",
     "text": [
      "> \u001b[1;32mc:\\users\\dembek\\appdata\\local\\temp\\ipykernel_18428\\606380187.py\u001b[0m(7)\u001b[0;36mfully_connected\u001b[1;34m()\u001b[0m\n",
      "\n",
      "ipdb> p flatten_array[0]\n",
      "0.8363508852274629\n",
      "ipdb> p flatten_array.shape\n",
      "(120,)\n",
      "ipdb> c\n",
      "> \u001b[1;32mc:\\users\\dembek\\appdata\\local\\temp\\ipykernel_18428\\606380187.py\u001b[0m(9)\u001b[0;36mfully_connected\u001b[1;34m()\u001b[0m\n",
      "\n"
     ]
    }
   ],
   "source": [
    "b = fully_connected(a, 10, bias)"
   ]
  },
  {
   "cell_type": "code",
   "execution_count": 119,
   "id": "3bd4be30",
   "metadata": {},
   "outputs": [
    {
     "data": {
      "text/plain": [
       "array([0.00045416, 0.27799541, 0.10229085, 0.17043475, 0.02124742,\n",
       "       0.02601075, 0.23646179, 0.00251889, 0.01909501, 0.14349097])"
      ]
     },
     "execution_count": 119,
     "metadata": {},
     "output_type": "execute_result"
    }
   ],
   "source": [
    "Softmax(b)"
   ]
  },
  {
   "cell_type": "code",
   "execution_count": 133,
   "id": "2cc4a4ad",
   "metadata": {},
   "outputs": [
    {
     "data": {
      "text/plain": [
       "array([89.31919571, 92.25376027, 91.77294417, 89.41211037, 92.92622867,\n",
       "       89.8564207 , 91.74248784, 91.07681137, 90.93248558, 90.95229806])"
      ]
     },
     "execution_count": 133,
     "metadata": {},
     "output_type": "execute_result"
    }
   ],
   "source": [
    "b"
   ]
  },
  {
   "cell_type": "code",
   "execution_count": null,
   "id": "ba0aaf02",
   "metadata": {},
   "outputs": [],
   "source": []
  }
 ],
 "metadata": {
  "kernelspec": {
   "display_name": "Python 3 (ipykernel)",
   "language": "python",
   "name": "python3"
  },
  "language_info": {
   "codemirror_mode": {
    "name": "ipython",
    "version": 3
   },
   "file_extension": ".py",
   "mimetype": "text/x-python",
   "name": "python",
   "nbconvert_exporter": "python",
   "pygments_lexer": "ipython3",
   "version": "3.11.7"
  }
 },
 "nbformat": 4,
 "nbformat_minor": 5
}
