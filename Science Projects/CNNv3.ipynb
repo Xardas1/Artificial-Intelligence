{
 "cells": [
  {
   "cell_type": "code",
   "execution_count": 3,
   "id": "c1ecb639",
   "metadata": {},
   "outputs": [],
   "source": [
    "import numpy as np\n",
    "import pdb\n",
    "from PIL import Image\n",
    "from scipy import ndimage\n",
    "import os\n",
    "import unittest\n",
    "from scipy.ndimage import maximum_filter"
   ]
  },
  {
   "cell_type": "code",
   "execution_count": 4,
   "id": "cf6256f2",
   "metadata": {},
   "outputs": [],
   "source": [
    "png_file = Image.open(\"C:\\\\Data\\\\2.png\")\n",
    "array_image = np.array(png_file)\n",
    "kernel_3d = np.random.rand(3, 3, 4)\n",
    "png_file_1 = Image.open(\"C:\\\\Data\\\\1.png\")\n",
    "array_image_1 = np.array(png_file_1)"
   ]
  },
  {
   "cell_type": "code",
   "execution_count": 5,
   "id": "dfba14ef",
   "metadata": {},
   "outputs": [],
   "source": [
    "test_image = np.random.rand(10, 10, 4)"
   ]
  },
  {
   "cell_type": "code",
   "execution_count": 6,
   "id": "bb417220",
   "metadata": {},
   "outputs": [
    {
     "data": {
      "text/plain": [
       "array([[[1.77310926e-01, 1.13357538e-01, 5.50872890e-01, 9.36555143e-01],\n",
       "        [1.60361973e-01, 5.76944884e-01, 4.89572480e-01, 2.14125089e-01],\n",
       "        [4.40913666e-01, 2.09620944e-01, 1.39039313e-01, 5.21982841e-01],\n",
       "        [6.08242860e-01, 1.07074929e-01, 5.87409381e-01, 2.70262937e-01],\n",
       "        [4.38542160e-02, 5.88007460e-01, 7.69561299e-01, 7.78361928e-01],\n",
       "        [6.68719160e-01, 5.62118756e-02, 7.87022205e-01, 4.98327115e-01],\n",
       "        [8.44128075e-01, 2.64955303e-01, 3.92166541e-01, 3.12833401e-01],\n",
       "        [4.19337898e-01, 9.37690344e-01, 5.46302572e-01, 4.99581963e-01],\n",
       "        [1.19603432e-01, 9.84742455e-02, 6.55900845e-02, 6.38890313e-01],\n",
       "        [8.44825390e-01, 6.07090762e-01, 8.38164568e-01, 3.61605129e-01]],\n",
       "\n",
       "       [[8.77841506e-01, 3.64536812e-01, 8.93529625e-01, 5.65887283e-01],\n",
       "        [8.21194116e-01, 4.06020988e-01, 5.81944698e-01, 8.41378212e-01],\n",
       "        [4.36786045e-01, 9.65137736e-01, 2.36762932e-01, 2.92903379e-01],\n",
       "        [6.32332390e-01, 8.04525346e-01, 9.44916077e-01, 3.41385482e-01],\n",
       "        [9.01806499e-01, 1.61981414e-01, 7.86805161e-01, 1.24568585e-01],\n",
       "        [4.29000205e-01, 5.53007239e-01, 1.49107866e-01, 1.55181507e-01],\n",
       "        [8.67718049e-01, 9.85321208e-01, 3.76883155e-01, 4.83199322e-01],\n",
       "        [1.07056527e-01, 4.51091009e-01, 6.61255058e-01, 4.06585658e-01],\n",
       "        [5.27280746e-01, 6.54038134e-01, 6.81230854e-01, 7.26801554e-01],\n",
       "        [8.09035340e-01, 1.32150987e-01, 1.39570903e-02, 2.26328533e-02]],\n",
       "\n",
       "       [[9.73261349e-01, 7.40919716e-01, 7.34003650e-02, 6.80461624e-01],\n",
       "        [9.99406976e-01, 5.01419596e-01, 3.19875843e-01, 9.41277954e-01],\n",
       "        [2.91914650e-02, 3.60396446e-01, 7.30696849e-01, 2.71869170e-01],\n",
       "        [3.66687354e-01, 4.77931903e-01, 2.14160111e-01, 2.32024253e-01],\n",
       "        [9.08856967e-01, 2.89969136e-01, 7.93538671e-01, 8.02817031e-01],\n",
       "        [5.60995587e-01, 7.73027188e-01, 8.47768938e-01, 5.88436606e-01],\n",
       "        [9.01559452e-01, 2.13173167e-01, 2.17036530e-01, 4.71664090e-01],\n",
       "        [4.82713846e-01, 3.46056222e-01, 7.69449574e-01, 7.17045529e-01],\n",
       "        [9.23509592e-01, 4.93927269e-02, 8.53441306e-01, 1.03371827e-01],\n",
       "        [7.06388972e-01, 3.91124047e-01, 3.65243716e-01, 8.98383167e-01]],\n",
       "\n",
       "       [[7.02285867e-01, 2.93164301e-01, 4.38233965e-02, 6.35462853e-01],\n",
       "        [2.57334889e-03, 5.80285879e-01, 4.33303985e-01, 3.06904839e-01],\n",
       "        [2.95964796e-01, 6.65341920e-01, 7.20108219e-01, 8.01890008e-01],\n",
       "        [4.28241298e-01, 1.19657095e-01, 4.32976536e-01, 1.69285505e-01],\n",
       "        [2.49974168e-01, 5.48699436e-01, 1.40432007e-01, 1.02808814e-01],\n",
       "        [1.74030060e-01, 8.99368265e-01, 1.08442171e-02, 5.91702851e-01],\n",
       "        [1.99603705e-01, 5.34954986e-01, 7.21828437e-01, 1.64271747e-01],\n",
       "        [9.37437657e-01, 7.75921132e-01, 3.01401864e-01, 7.59372642e-01],\n",
       "        [7.41581657e-01, 1.91314389e-01, 9.19164971e-01, 7.90967521e-01],\n",
       "        [9.37832050e-01, 2.52068246e-01, 8.53950768e-01, 5.13675591e-01]],\n",
       "\n",
       "       [[4.53820367e-01, 3.47967385e-01, 6.22754892e-01, 4.33202752e-01],\n",
       "        [2.84593564e-01, 8.67355757e-01, 1.29719505e-01, 7.87893324e-01],\n",
       "        [4.69140308e-01, 8.97549359e-02, 4.58953843e-01, 8.08920273e-01],\n",
       "        [5.69870919e-01, 4.08284934e-01, 5.44616983e-01, 7.09486520e-01],\n",
       "        [2.76980481e-02, 4.38375543e-01, 7.38485082e-01, 1.92577379e-02],\n",
       "        [7.31527279e-02, 2.44181182e-01, 8.27345595e-02, 7.28303949e-01],\n",
       "        [2.56474542e-01, 8.31162588e-02, 7.48696253e-01, 7.25310045e-01],\n",
       "        [7.26555004e-01, 1.06421246e-01, 7.57974844e-01, 8.29666657e-01],\n",
       "        [5.13934659e-02, 9.21446969e-01, 4.46841218e-01, 5.30580274e-01],\n",
       "        [8.64597255e-01, 6.40727499e-02, 6.27253066e-01, 3.98214307e-01]],\n",
       "\n",
       "       [[5.65118307e-01, 2.82566733e-01, 5.90766038e-01, 2.65642348e-01],\n",
       "        [3.36825537e-01, 3.99626299e-01, 4.20245207e-01, 7.57952278e-02],\n",
       "        [3.49831709e-01, 6.98315330e-01, 8.26003688e-01, 3.94449676e-01],\n",
       "        [9.91330434e-01, 5.79412571e-01, 3.03598515e-01, 9.87539658e-01],\n",
       "        [9.99474032e-01, 8.90319755e-01, 1.28102085e-01, 6.15208455e-01],\n",
       "        [5.08736772e-01, 9.50153632e-01, 2.04389966e-01, 9.36364757e-01],\n",
       "        [7.03892693e-01, 2.03980344e-01, 2.00167997e-01, 5.47737384e-01],\n",
       "        [7.60291611e-01, 9.22591761e-01, 8.51125299e-01, 8.93628712e-01],\n",
       "        [7.73199252e-01, 8.66307649e-01, 9.34011855e-01, 7.21471457e-01],\n",
       "        [4.53468032e-01, 7.90294794e-01, 1.69745128e-01, 6.07221687e-01]],\n",
       "\n",
       "       [[9.26302003e-01, 4.68370525e-01, 4.30273283e-01, 8.50567908e-01],\n",
       "        [8.26042739e-01, 2.68080038e-01, 5.01245444e-01, 7.93462338e-01],\n",
       "        [4.17385355e-01, 5.52784963e-01, 6.62491157e-01, 8.87758815e-02],\n",
       "        [6.81596072e-02, 6.17025950e-01, 4.49528623e-01, 5.56756260e-02],\n",
       "        [8.40738230e-01, 4.24149363e-01, 7.23956823e-01, 7.65442789e-01],\n",
       "        [7.84676502e-01, 6.16799460e-01, 3.35127294e-01, 3.72464871e-01],\n",
       "        [6.03339406e-01, 8.28177886e-01, 1.08939309e-01, 4.12181747e-01],\n",
       "        [7.99304419e-01, 4.41225950e-01, 6.55794373e-02, 7.09058792e-01],\n",
       "        [2.79344074e-01, 6.01092133e-01, 7.93643392e-01, 5.16170265e-01],\n",
       "        [7.20237755e-01, 6.73790006e-01, 1.44072919e-01, 7.12678565e-01]],\n",
       "\n",
       "       [[4.04397455e-01, 4.24623710e-02, 5.66818548e-01, 7.24317153e-01],\n",
       "        [4.40286873e-01, 9.76945454e-01, 5.45741084e-01, 2.65062529e-01],\n",
       "        [3.88779723e-01, 8.00851512e-01, 5.64332843e-01, 3.87574343e-01],\n",
       "        [5.78351943e-01, 3.61926145e-01, 5.54481158e-01, 3.57233115e-01],\n",
       "        [7.04249115e-01, 8.35016629e-01, 7.85527692e-01, 7.92714791e-01],\n",
       "        [1.61068553e-04, 2.67863101e-01, 4.67600109e-01, 7.14123026e-01],\n",
       "        [1.81148535e-01, 7.40272213e-01, 9.47683733e-01, 3.32676143e-01],\n",
       "        [8.25880897e-01, 4.67870425e-01, 3.09376579e-01, 8.41334868e-01],\n",
       "        [3.19000778e-01, 5.90406954e-01, 9.38202766e-01, 4.40847402e-01],\n",
       "        [3.30320393e-01, 9.13972074e-01, 6.96507747e-01, 8.23153526e-01]],\n",
       "\n",
       "       [[3.13502767e-01, 2.01468291e-01, 4.86663692e-02, 6.27197317e-01],\n",
       "        [6.75525815e-01, 6.50982225e-01, 4.02236502e-01, 1.06916173e-01],\n",
       "        [6.25574066e-02, 1.52798585e-01, 4.56004433e-01, 3.24687745e-01],\n",
       "        [9.95649783e-01, 2.79522113e-01, 4.71750025e-02, 6.50703062e-01],\n",
       "        [7.72817140e-01, 6.66815186e-01, 3.04421304e-01, 3.30732118e-01],\n",
       "        [2.46169381e-01, 6.35800862e-01, 4.11251813e-01, 7.42963210e-02],\n",
       "        [1.69696147e-01, 5.44622965e-01, 8.50083904e-01, 9.69007470e-01],\n",
       "        [9.19421854e-01, 8.52456564e-01, 6.82967364e-01, 8.12222739e-01],\n",
       "        [3.88711953e-01, 5.64970917e-01, 4.80311373e-02, 1.79730733e-02],\n",
       "        [2.28792512e-01, 2.66873045e-01, 5.81176415e-01, 6.22402728e-01]],\n",
       "\n",
       "       [[4.26403875e-01, 1.53590652e-01, 8.54561994e-01, 1.82679001e-02],\n",
       "        [4.85698355e-01, 5.57034218e-01, 9.09643016e-01, 2.08883399e-01],\n",
       "        [1.32409780e-01, 4.29169406e-01, 4.83171906e-01, 2.79909140e-01],\n",
       "        [9.81182013e-01, 1.17096934e-01, 7.77851837e-02, 3.20596086e-01],\n",
       "        [2.90361065e-01, 6.46319150e-01, 6.96160721e-02, 3.67640794e-01],\n",
       "        [2.63520276e-01, 5.14724793e-01, 3.94742787e-01, 5.99992540e-01],\n",
       "        [5.29433542e-01, 9.26592788e-01, 8.21506923e-01, 7.74303828e-01],\n",
       "        [3.69117895e-01, 9.80640281e-01, 5.31107012e-01, 2.86226807e-01],\n",
       "        [2.80234068e-01, 8.96757739e-01, 1.57695827e-01, 9.87583338e-01],\n",
       "        [1.24503955e-01, 3.16415789e-01, 5.50871750e-01, 8.23197396e-01]]])"
      ]
     },
     "execution_count": 6,
     "metadata": {},
     "output_type": "execute_result"
    }
   ],
   "source": [
    "test_image"
   ]
  },
  {
   "cell_type": "code",
   "execution_count": 7,
   "id": "80b12173",
   "metadata": {
    "scrolled": true
   },
   "outputs": [
    {
     "data": {
      "image/png": "[encoded data removed]",
      "text/plain": [
       "<PIL.PngImagePlugin.PngImageFile image mode=RGBA size=345x343>"
      ]
     },
     "execution_count": 7,
     "metadata": {},
     "output_type": "execute_result"
    }
   ],
   "source": [
    "png_file_1"
   ]
  },
  {
   "cell_type": "code",
   "execution_count": 8,
   "id": "7c8cd443",
   "metadata": {},
   "outputs": [],
   "source": [
    "def convolve_one_step(input_image):\n",
    "    intermediate_values = []\n",
    "    dimensions = input_image.shape\n",
    "    final_values = []\n",
    "    for i in range(dimensions[0] - 2):\n",
    "        for j in range(dimensions[1] - 2):\n",
    "            for k in range(dimensions[2]):\n",
    "                slice_of_image = input_image[i : i + 3, j : j + 3, k]\n",
    "                real_kernel = kernel_3d[:, :, k]\n",
    "                #pdb.set_trace()\n",
    "                value = np.vdot(slice_of_image, real_kernel)\n",
    "                intermediate_values.append(value)\n",
    "                #pdb.set_trace()\n",
    "                if len(intermediate_values) == 4:\n",
    "                    final_values.append(sum_dimension(intermediate_values))\n",
    "                    intermediate_values.clear()\n",
    "    return np.array(final_values)"
   ]
  },
  {
   "cell_type": "code",
   "execution_count": 9,
   "id": "46848499",
   "metadata": {},
   "outputs": [],
   "source": [
    "def sum_dimension(list_of_three):\n",
    "    return sum(list_of_three)"
   ]
  },
  {
   "cell_type": "code",
   "execution_count": 10,
   "id": "cc9d5c83",
   "metadata": {},
   "outputs": [],
   "source": [
    "image_after_conv_2 = np.array(convolve_one_step(array_image)).reshape(588, 584, 1)"
   ]
  },
  {
   "cell_type": "code",
   "execution_count": 11,
   "id": "e9793577",
   "metadata": {},
   "outputs": [],
   "source": [
    "image_after_conv_1 = np.array(convolve_one_step(array_image_1)).reshape(341, 343, 1)"
   ]
  },
  {
   "cell_type": "code",
   "execution_count": 12,
   "id": "e11ce505",
   "metadata": {},
   "outputs": [
    {
     "data": {
      "text/plain": [
       "array([[[2018.15040791],\n",
       "        [2364.85457503],\n",
       "        [2364.85457503],\n",
       "        ...,\n",
       "        [2364.85457503],\n",
       "        [2364.85457503],\n",
       "        [2364.85457503]],\n",
       "\n",
       "       [[2644.71528259],\n",
       "        [3425.06318566],\n",
       "        [3425.06318566],\n",
       "        ...,\n",
       "        [3425.06318566],\n",
       "        [3425.06318566],\n",
       "        [3425.06318566]],\n",
       "\n",
       "       [[3591.25606583],\n",
       "        [4799.31292342],\n",
       "        [4799.31292342],\n",
       "        ...,\n",
       "        [4799.31292342],\n",
       "        [4799.31292342],\n",
       "        [4799.31292342]],\n",
       "\n",
       "       ...,\n",
       "\n",
       "       [[3591.25606583],\n",
       "        [4799.31292342],\n",
       "        [4799.31292342],\n",
       "        ...,\n",
       "        [4799.31292342],\n",
       "        [4799.31292342],\n",
       "        [4799.31292342]],\n",
       "\n",
       "       [[3591.25606583],\n",
       "        [4799.31292342],\n",
       "        [4799.31292342],\n",
       "        ...,\n",
       "        [4799.31292342],\n",
       "        [4799.31292342],\n",
       "        [4799.31292342]],\n",
       "\n",
       "       [[3591.25606583],\n",
       "        [4799.31292342],\n",
       "        [4799.31292342],\n",
       "        ...,\n",
       "        [4799.31292342],\n",
       "        [4799.31292342],\n",
       "        [4799.31292342]]])"
      ]
     },
     "execution_count": 12,
     "metadata": {},
     "output_type": "execute_result"
    }
   ],
   "source": [
    "image_after_conv_1"
   ]
  },
  {
   "cell_type": "code",
   "execution_count": 13,
   "id": "08f7dc89",
   "metadata": {},
   "outputs": [],
   "source": [
    "def format_an_image(image_array):\n",
    "    image_array = image_array.astype(np.uint8)\n",
    "    image_array = np.squeeze(image_array)\n",
    "    image_array = Image.fromarray(image_array)\n",
    "    return image_array"
   ]
  },
  {
   "cell_type": "code",
   "execution_count": 14,
   "id": "7fdcb15d",
   "metadata": {
    "scrolled": true
   },
   "outputs": [
    {
     "data": {
      "text/plain": [
       "array([[[1.77310926e-01, 1.13357538e-01, 5.50872890e-01, 9.36555143e-01],\n",
       "        [1.60361973e-01, 5.76944884e-01, 4.89572480e-01, 2.14125089e-01],\n",
       "        [4.40913666e-01, 2.09620944e-01, 1.39039313e-01, 5.21982841e-01],\n",
       "        [6.08242860e-01, 1.07074929e-01, 5.87409381e-01, 2.70262937e-01],\n",
       "        [4.38542160e-02, 5.88007460e-01, 7.69561299e-01, 7.78361928e-01],\n",
       "        [6.68719160e-01, 5.62118756e-02, 7.87022205e-01, 4.98327115e-01],\n",
       "        [8.44128075e-01, 2.64955303e-01, 3.92166541e-01, 3.12833401e-01],\n",
       "        [4.19337898e-01, 9.37690344e-01, 5.46302572e-01, 4.99581963e-01],\n",
       "        [1.19603432e-01, 9.84742455e-02, 6.55900845e-02, 6.38890313e-01],\n",
       "        [8.44825390e-01, 6.07090762e-01, 8.38164568e-01, 3.61605129e-01]],\n",
       "\n",
       "       [[8.77841506e-01, 3.64536812e-01, 8.93529625e-01, 5.65887283e-01],\n",
       "        [8.21194116e-01, 4.06020988e-01, 5.81944698e-01, 8.41378212e-01],\n",
       "        [4.36786045e-01, 9.65137736e-01, 2.36762932e-01, 2.92903379e-01],\n",
       "        [6.32332390e-01, 8.04525346e-01, 9.44916077e-01, 3.41385482e-01],\n",
       "        [9.01806499e-01, 1.61981414e-01, 7.86805161e-01, 1.24568585e-01],\n",
       "        [4.29000205e-01, 5.53007239e-01, 1.49107866e-01, 1.55181507e-01],\n",
       "        [8.67718049e-01, 9.85321208e-01, 3.76883155e-01, 4.83199322e-01],\n",
       "        [1.07056527e-01, 4.51091009e-01, 6.61255058e-01, 4.06585658e-01],\n",
       "        [5.27280746e-01, 6.54038134e-01, 6.81230854e-01, 7.26801554e-01],\n",
       "        [8.09035340e-01, 1.32150987e-01, 1.39570903e-02, 2.26328533e-02]],\n",
       "\n",
       "       [[9.73261349e-01, 7.40919716e-01, 7.34003650e-02, 6.80461624e-01],\n",
       "        [9.99406976e-01, 5.01419596e-01, 3.19875843e-01, 9.41277954e-01],\n",
       "        [2.91914650e-02, 3.60396446e-01, 7.30696849e-01, 2.71869170e-01],\n",
       "        [3.66687354e-01, 4.77931903e-01, 2.14160111e-01, 2.32024253e-01],\n",
       "        [9.08856967e-01, 2.89969136e-01, 7.93538671e-01, 8.02817031e-01],\n",
       "        [5.60995587e-01, 7.73027188e-01, 8.47768938e-01, 5.88436606e-01],\n",
       "        [9.01559452e-01, 2.13173167e-01, 2.17036530e-01, 4.71664090e-01],\n",
       "        [4.82713846e-01, 3.46056222e-01, 7.69449574e-01, 7.17045529e-01],\n",
       "        [9.23509592e-01, 4.93927269e-02, 8.53441306e-01, 1.03371827e-01],\n",
       "        [7.06388972e-01, 3.91124047e-01, 3.65243716e-01, 8.98383167e-01]],\n",
       "\n",
       "       [[7.02285867e-01, 2.93164301e-01, 4.38233965e-02, 6.35462853e-01],\n",
       "        [2.57334889e-03, 5.80285879e-01, 4.33303985e-01, 3.06904839e-01],\n",
       "        [2.95964796e-01, 6.65341920e-01, 7.20108219e-01, 8.01890008e-01],\n",
       "        [4.28241298e-01, 1.19657095e-01, 4.32976536e-01, 1.69285505e-01],\n",
       "        [2.49974168e-01, 5.48699436e-01, 1.40432007e-01, 1.02808814e-01],\n",
       "        [1.74030060e-01, 8.99368265e-01, 1.08442171e-02, 5.91702851e-01],\n",
       "        [1.99603705e-01, 5.34954986e-01, 7.21828437e-01, 1.64271747e-01],\n",
       "        [9.37437657e-01, 7.75921132e-01, 3.01401864e-01, 7.59372642e-01],\n",
       "        [7.41581657e-01, 1.91314389e-01, 9.19164971e-01, 7.90967521e-01],\n",
       "        [9.37832050e-01, 2.52068246e-01, 8.53950768e-01, 5.13675591e-01]],\n",
       "\n",
       "       [[4.53820367e-01, 3.47967385e-01, 6.22754892e-01, 4.33202752e-01],\n",
       "        [2.84593564e-01, 8.67355757e-01, 1.29719505e-01, 7.87893324e-01],\n",
       "        [4.69140308e-01, 8.97549359e-02, 4.58953843e-01, 8.08920273e-01],\n",
       "        [5.69870919e-01, 4.08284934e-01, 5.44616983e-01, 7.09486520e-01],\n",
       "        [2.76980481e-02, 4.38375543e-01, 7.38485082e-01, 1.92577379e-02],\n",
       "        [7.31527279e-02, 2.44181182e-01, 8.27345595e-02, 7.28303949e-01],\n",
       "        [2.56474542e-01, 8.31162588e-02, 7.48696253e-01, 7.25310045e-01],\n",
       "        [7.26555004e-01, 1.06421246e-01, 7.57974844e-01, 8.29666657e-01],\n",
       "        [5.13934659e-02, 9.21446969e-01, 4.46841218e-01, 5.30580274e-01],\n",
       "        [8.64597255e-01, 6.40727499e-02, 6.27253066e-01, 3.98214307e-01]],\n",
       "\n",
       "       [[5.65118307e-01, 2.82566733e-01, 5.90766038e-01, 2.65642348e-01],\n",
       "        [3.36825537e-01, 3.99626299e-01, 4.20245207e-01, 7.57952278e-02],\n",
       "        [3.49831709e-01, 6.98315330e-01, 8.26003688e-01, 3.94449676e-01],\n",
       "        [9.91330434e-01, 5.79412571e-01, 3.03598515e-01, 9.87539658e-01],\n",
       "        [9.99474032e-01, 8.90319755e-01, 1.28102085e-01, 6.15208455e-01],\n",
       "        [5.08736772e-01, 9.50153632e-01, 2.04389966e-01, 9.36364757e-01],\n",
       "        [7.03892693e-01, 2.03980344e-01, 2.00167997e-01, 5.47737384e-01],\n",
       "        [7.60291611e-01, 9.22591761e-01, 8.51125299e-01, 8.93628712e-01],\n",
       "        [7.73199252e-01, 8.66307649e-01, 9.34011855e-01, 7.21471457e-01],\n",
       "        [4.53468032e-01, 7.90294794e-01, 1.69745128e-01, 6.07221687e-01]],\n",
       "\n",
       "       [[9.26302003e-01, 4.68370525e-01, 4.30273283e-01, 8.50567908e-01],\n",
       "        [8.26042739e-01, 2.68080038e-01, 5.01245444e-01, 7.93462338e-01],\n",
       "        [4.17385355e-01, 5.52784963e-01, 6.62491157e-01, 8.87758815e-02],\n",
       "        [6.81596072e-02, 6.17025950e-01, 4.49528623e-01, 5.56756260e-02],\n",
       "        [8.40738230e-01, 4.24149363e-01, 7.23956823e-01, 7.65442789e-01],\n",
       "        [7.84676502e-01, 6.16799460e-01, 3.35127294e-01, 3.72464871e-01],\n",
       "        [6.03339406e-01, 8.28177886e-01, 1.08939309e-01, 4.12181747e-01],\n",
       "        [7.99304419e-01, 4.41225950e-01, 6.55794373e-02, 7.09058792e-01],\n",
       "        [2.79344074e-01, 6.01092133e-01, 7.93643392e-01, 5.16170265e-01],\n",
       "        [7.20237755e-01, 6.73790006e-01, 1.44072919e-01, 7.12678565e-01]],\n",
       "\n",
       "       [[4.04397455e-01, 4.24623710e-02, 5.66818548e-01, 7.24317153e-01],\n",
       "        [4.40286873e-01, 9.76945454e-01, 5.45741084e-01, 2.65062529e-01],\n",
       "        [3.88779723e-01, 8.00851512e-01, 5.64332843e-01, 3.87574343e-01],\n",
       "        [5.78351943e-01, 3.61926145e-01, 5.54481158e-01, 3.57233115e-01],\n",
       "        [7.04249115e-01, 8.35016629e-01, 7.85527692e-01, 7.92714791e-01],\n",
       "        [1.61068553e-04, 2.67863101e-01, 4.67600109e-01, 7.14123026e-01],\n",
       "        [1.81148535e-01, 7.40272213e-01, 9.47683733e-01, 3.32676143e-01],\n",
       "        [8.25880897e-01, 4.67870425e-01, 3.09376579e-01, 8.41334868e-01],\n",
       "        [3.19000778e-01, 5.90406954e-01, 9.38202766e-01, 4.40847402e-01],\n",
       "        [3.30320393e-01, 9.13972074e-01, 6.96507747e-01, 8.23153526e-01]],\n",
       "\n",
       "       [[3.13502767e-01, 2.01468291e-01, 4.86663692e-02, 6.27197317e-01],\n",
       "        [6.75525815e-01, 6.50982225e-01, 4.02236502e-01, 1.06916173e-01],\n",
       "        [6.25574066e-02, 1.52798585e-01, 4.56004433e-01, 3.24687745e-01],\n",
       "        [9.95649783e-01, 2.79522113e-01, 4.71750025e-02, 6.50703062e-01],\n",
       "        [7.72817140e-01, 6.66815186e-01, 3.04421304e-01, 3.30732118e-01],\n",
       "        [2.46169381e-01, 6.35800862e-01, 4.11251813e-01, 7.42963210e-02],\n",
       "        [1.69696147e-01, 5.44622965e-01, 8.50083904e-01, 9.69007470e-01],\n",
       "        [9.19421854e-01, 8.52456564e-01, 6.82967364e-01, 8.12222739e-01],\n",
       "        [3.88711953e-01, 5.64970917e-01, 4.80311373e-02, 1.79730733e-02],\n",
       "        [2.28792512e-01, 2.66873045e-01, 5.81176415e-01, 6.22402728e-01]],\n",
       "\n",
       "       [[4.26403875e-01, 1.53590652e-01, 8.54561994e-01, 1.82679001e-02],\n",
       "        [4.85698355e-01, 5.57034218e-01, 9.09643016e-01, 2.08883399e-01],\n",
       "        [1.32409780e-01, 4.29169406e-01, 4.83171906e-01, 2.79909140e-01],\n",
       "        [9.81182013e-01, 1.17096934e-01, 7.77851837e-02, 3.20596086e-01],\n",
       "        [2.90361065e-01, 6.46319150e-01, 6.96160721e-02, 3.67640794e-01],\n",
       "        [2.63520276e-01, 5.14724793e-01, 3.94742787e-01, 5.99992540e-01],\n",
       "        [5.29433542e-01, 9.26592788e-01, 8.21506923e-01, 7.74303828e-01],\n",
       "        [3.69117895e-01, 9.80640281e-01, 5.31107012e-01, 2.86226807e-01],\n",
       "        [2.80234068e-01, 8.96757739e-01, 1.57695827e-01, 9.87583338e-01],\n",
       "        [1.24503955e-01, 3.16415789e-01, 5.50871750e-01, 8.23197396e-01]]])"
      ]
     },
     "execution_count": 14,
     "metadata": {},
     "output_type": "execute_result"
    }
   ],
   "source": [
    "test_image"
   ]
  },
  {
   "cell_type": "code",
   "execution_count": 15,
   "id": "5b793538",
   "metadata": {},
   "outputs": [],
   "source": [
    "def max_pooling(image_array):\n",
    "    pooling_values = []\n",
    "    for m in range(0, image_array.shape[0], 2):\n",
    "        for n in range(0, image_array.shape[1], 2):\n",
    "            for o in range(image_array.shape[2]):\n",
    "                if n + 2 > image_array.shape[1]:\n",
    "                    slice_of_pooling = image_array[m : m + 2, n - 1: n + 1 , o]\n",
    "                else:\n",
    "                    slice_of_pooling = image_array[m : m + 2, n : n + 2 , o]\n",
    "                pooling_values.append(slice_of_pooling.max())\n",
    "                #pdb.set_trace()\n",
    "    return pooling_values"
   ]
  },
  {
   "cell_type": "code",
   "execution_count": 16,
   "id": "11b582d2",
   "metadata": {},
   "outputs": [],
   "source": [
    "filtr = test_image[0 : 2, 0 : 2, 0]"
   ]
  },
  {
   "cell_type": "code",
   "execution_count": 18,
   "id": "63feba0a",
   "metadata": {},
   "outputs": [],
   "source": [
    "after_maxpool = np.array(max_pooling(test_image)).reshape(5, 5, 4)"
   ]
  },
  {
   "cell_type": "code",
   "execution_count": 19,
   "id": "b401c15e",
   "metadata": {},
   "outputs": [
    {
     "data": {
      "text/plain": [
       "(5, 5, 4)"
      ]
     },
     "execution_count": 19,
     "metadata": {},
     "output_type": "execute_result"
    }
   ],
   "source": [
    "after_maxpool.shape"
   ]
  },
  {
   "cell_type": "code",
   "execution_count": 20,
   "id": "84089c4e",
   "metadata": {},
   "outputs": [],
   "source": [
    "def ReLUv1(x):\n",
    "    after_relu = []\n",
    "    for r in x:\n",
    "        if r > 0:\n",
    "            after_relu.append(r)\n",
    "        else:\n",
    "            after_relu.append(0)\n",
    "    return after_relu"
   ]
  },
  {
   "cell_type": "code",
   "execution_count": 21,
   "id": "09672ef6",
   "metadata": {},
   "outputs": [],
   "source": [
    "def ReLUv2(x):\n",
    "    return np.maximum(0, x)"
   ]
  },
  {
   "cell_type": "code",
   "execution_count": 145,
   "id": "a8f5d3c2",
   "metadata": {},
   "outputs": [],
   "source": [
    "last_pool = np.random.rand(2, 2, 1)"
   ]
  },
  {
   "cell_type": "code",
   "execution_count": 165,
   "id": "4803327d",
   "metadata": {},
   "outputs": [],
   "source": [
    "def fully_connected(after_last_max_pool, number_of_nodes):\n",
    "    almost_values = []\n",
    "    nodes_values = []\n",
    "    flatten_array = after_last_max_pool.reshape(4)\n",
    "    weights = np.random.rand(len(flatten_array), number_of_nodes)\n",
    "    for x in range(weights.shape[1]):\n",
    "        for y in range(weights.shape[0]):\n",
    "            #pdb.set_trace()\n",
    "            if y == weights.shape[0] - 1:\n",
    "                almost_values.append(weights[y : y + 1, x] * flatten_array[y])\n",
    "                nodes_values.append(sum(almost_values))\n",
    "                almost_values.clear()\n",
    "            else:\n",
    "                almost_values.append(weights[y : y + 1, x] * flatten_array[y])\n",
    "    return nodes_values"
   ]
  },
  {
   "cell_type": "code",
   "execution_count": 166,
   "id": "9215c96b",
   "metadata": {},
   "outputs": [
    {
     "data": {
      "text/plain": [
       "[array([1.6613091]),\n",
       " array([0.90403203]),\n",
       " array([1.20575137]),\n",
       " array([0.66356275])]"
      ]
     },
     "execution_count": 166,
     "metadata": {},
     "output_type": "execute_result"
    }
   ],
   "source": [
    "fully_connected(last_pool, 4)"
   ]
  },
  {
   "cell_type": "code",
   "execution_count": 127,
   "id": "3a83eb23",
   "metadata": {},
   "outputs": [],
   "source": [
    "t = np.random.rand(2, 2, 1)"
   ]
  },
  {
   "cell_type": "code",
   "execution_count": 128,
   "id": "51decad5",
   "metadata": {},
   "outputs": [
    {
     "data": {
      "text/plain": [
       "array([[[0.89914831],\n",
       "        [0.49260916]],\n",
       "\n",
       "       [[0.07075309],\n",
       "        [0.52069181]]])"
      ]
     },
     "execution_count": 128,
     "metadata": {},
     "output_type": "execute_result"
    }
   ],
   "source": [
    "t"
   ]
  },
  {
   "cell_type": "code",
   "execution_count": 148,
   "id": "fd421b62",
   "metadata": {},
   "outputs": [
    {
     "data": {
      "text/plain": [
       "4"
      ]
     },
     "execution_count": 148,
     "metadata": {},
     "output_type": "execute_result"
    }
   ],
   "source": [
    "len(t.reshape(4))"
   ]
  },
  {
   "cell_type": "code",
   "execution_count": null,
   "id": "1d31543b",
   "metadata": {},
   "outputs": [],
   "source": []
  }
 ],
 "metadata": {
  "kernelspec": {
   "display_name": "Python 3 (ipykernel)",
   "language": "python",
   "name": "python3"
  },
  "language_info": {
   "codemirror_mode": {
    "name": "ipython",
    "version": 3
   },
   "file_extension": ".py",
   "mimetype": "text/x-python",
   "name": "python",
   "nbconvert_exporter": "python",
   "pygments_lexer": "ipython3",
   "version": "3.11.7"
  }
 },
 "nbformat": 4,
 "nbformat_minor": 5
}
