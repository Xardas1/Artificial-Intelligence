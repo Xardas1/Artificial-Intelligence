{
 "cells": [
  {
   "cell_type": "code",
   "execution_count": 2,
   "id": "c1ecb639",
   "metadata": {},
   "outputs": [],
   "source": [
    "import numpy as np\n",
    "import pdb\n",
    "from PIL import Image\n",
    "from scipy import ndimage\n",
    "import os\n",
    "import unittest\n",
    "from scipy.ndimage import maximum_filter"
   ]
  },
  {
   "cell_type": "code",
   "execution_count": 94,
   "id": "cf6256f2",
   "metadata": {},
   "outputs": [],
   "source": [
    "png_file = Image.open(\"C:\\\\Data\\\\2.png\")\n",
    "array_image = np.array(png_file)\n",
    "kernel_3d = np.random.rand(3, 3, 4)\n",
    "kernel_3d_2 = np.random.rand(3, 3, 4) \n",
    "kernel_3d_3 = np.random.rand(3, 3, 4)\n",
    "png_file_1 = Image.open(\"C:\\\\Data\\\\1.png\")\n",
    "array_image_1 = np.array(png_file_1)"
   ]
  },
  {
   "cell_type": "code",
   "execution_count": 52,
   "id": "d6bea79f",
   "metadata": {},
   "outputs": [
    {
     "data": {
      "text/plain": [
       "array([[[0.0229695 , 0.82028251, 0.26195054, 0.5230198 ],\n",
       "        [0.71795052, 0.73789951, 0.51326136, 0.58539481],\n",
       "        [0.66847521, 0.37797085, 0.17846777, 0.96771695]],\n",
       "\n",
       "       [[0.2054206 , 0.07835007, 0.19237932, 0.25284656],\n",
       "        [0.70348223, 0.90270746, 0.54695471, 0.70561571],\n",
       "        [0.27347069, 0.48721745, 0.86218299, 0.45189815]],\n",
       "\n",
       "       [[0.57164563, 0.91495283, 0.15168394, 0.37928622],\n",
       "        [0.19260003, 0.84691538, 0.27741407, 0.94882001],\n",
       "        [0.35470914, 0.77908422, 0.66216021, 0.93800158]]])"
      ]
     },
     "execution_count": 52,
     "metadata": {},
     "output_type": "execute_result"
    }
   ],
   "source": [
    "kernel_3d"
   ]
  },
  {
   "cell_type": "code",
   "execution_count": 190,
   "id": "c7bef6a7",
   "metadata": {},
   "outputs": [
    {
     "data": {
      "text/plain": [
       "(590, 586, 4)"
      ]
     },
     "execution_count": 190,
     "metadata": {},
     "output_type": "execute_result"
    }
   ],
   "source": [
    "array_image.shape"
   ]
  },
  {
   "cell_type": "code",
   "execution_count": 198,
   "id": "5f47e16c",
   "metadata": {},
   "outputs": [],
   "source": [
    "def reshape_dimensions(input_height, input_width, filter_height, filter_width, stride):\n",
    "    output_height = int(((input_height - filter_height) / stride) + 1)\n",
    "    output_width  = int(((input_width - filter_width)  / stride) + 1)\n",
    "    return (output_height, output_width)"
   ]
  },
  {
   "cell_type": "code",
   "execution_count": 234,
   "id": "81b7b60e",
   "metadata": {},
   "outputs": [
    {
     "data": {
      "text/plain": [
       "(28, 28)"
      ]
     },
     "execution_count": 234,
     "metadata": {},
     "output_type": "execute_result"
    }
   ],
   "source": [
    "reshape_dimensions(32, 32, 5, 5, 1)"
   ]
  },
  {
   "cell_type": "code",
   "execution_count": 214,
   "id": "dfba14ef",
   "metadata": {},
   "outputs": [],
   "source": [
    "test_image = np.random.rand(4, 4, 4)"
   ]
  },
  {
   "cell_type": "code",
   "execution_count": 231,
   "id": "bb417220",
   "metadata": {},
   "outputs": [],
   "source": [
    "def forward_pass(image):\n",
    "    shape = image.shape\n",
    "    kernels = create_kernels(32)\n",
    "    to_stack_values = []\n",
    "    dimensions = reshape_dimensions(shape[0], shape[1], 3, 3, 1) \n",
    "    for i in range(len(kernels)):\n",
    "        to_stack_values.append(np.squeeze(convolve_one_step(image, kernels[i]).reshape(dimensions[0], dimensions[1], 1)))\n",
    "    stacked_filters = np.stack(to_stack_values, axis = 2)\n",
    "    return stacked_filters.shape"
   ]
  },
  {
   "cell_type": "code",
   "execution_count": 233,
   "id": "44f0edcc",
   "metadata": {},
   "outputs": [
    {
     "data": {
      "text/plain": [
       "(588, 584, 32)"
      ]
     },
     "execution_count": 233,
     "metadata": {},
     "output_type": "execute_result"
    }
   ],
   "source": [
    "forward_pass(array_image)"
   ]
  },
  {
   "cell_type": "code",
   "execution_count": 168,
   "id": "11536dab",
   "metadata": {},
   "outputs": [],
   "source": [
    "def create_kernels(number_to_create):\n",
    "    every_kernel = []\n",
    "    for f_u in range(number_to_create):\n",
    "        every_kernel.append(np.random.rand(3, 3, 4))\n",
    "    return every_kernel"
   ]
  },
  {
   "cell_type": "code",
   "execution_count": 174,
   "id": "3c24cf7b",
   "metadata": {},
   "outputs": [],
   "source": [
    "jan = create_kernels(32)"
   ]
  },
  {
   "cell_type": "code",
   "execution_count": 211,
   "id": "1fefa816",
   "metadata": {},
   "outputs": [
    {
     "data": {
      "text/plain": [
       "32"
      ]
     },
     "execution_count": 211,
     "metadata": {},
     "output_type": "execute_result"
    }
   ],
   "source": [
    "len(jan)"
   ]
  },
  {
   "cell_type": "code",
   "execution_count": 32,
   "id": "7c8cd443",
   "metadata": {},
   "outputs": [],
   "source": [
    "def convolve_one_step(input_image, kernel_used):\n",
    "    intermediate_values = []\n",
    "    dimensions = input_image.shape\n",
    "    final_values = []\n",
    "    for i in range(dimensions[0] - 2):\n",
    "        for j in range(dimensions[1] - 2):\n",
    "            for k in range(dimensions[2]):\n",
    "                slice_of_image = input_image[i : i + 3, j : j + 3, k]\n",
    "                real_kernel = kernel_used[:, :, k]\n",
    "                #pdb.set_trace()\n",
    "                value = np.vdot(slice_of_image, real_kernel)\n",
    "                intermediate_values.append(value)\n",
    "                #pdb.set_trace()\n",
    "                if len(intermediate_values) == 4:\n",
    "                    final_values.append(sum_dimension(intermediate_values))\n",
    "                    intermediate_values.clear()\n",
    "    return np.array(final_values)"
   ]
  },
  {
   "cell_type": "code",
   "execution_count": 33,
   "id": "46848499",
   "metadata": {},
   "outputs": [],
   "source": [
    "def sum_dimension(list_of_three):\n",
    "    return sum(list_of_three)"
   ]
  },
  {
   "cell_type": "code",
   "execution_count": 203,
   "id": "cc9d5c83",
   "metadata": {},
   "outputs": [],
   "source": [
    "image_after_conv_2 = np.array(convolve_one_step(array_image, kernel_3d)).reshape(dimensions[0], dimensions[1], 1)"
   ]
  },
  {
   "cell_type": "code",
   "execution_count": 204,
   "id": "abc46dcf",
   "metadata": {},
   "outputs": [
    {
     "data": {
      "text/plain": [
       "(588, 584, 1)"
      ]
     },
     "execution_count": 204,
     "metadata": {},
     "output_type": "execute_result"
    }
   ],
   "source": [
    "image_after_conv_2.shape"
   ]
  },
  {
   "cell_type": "code",
   "execution_count": 41,
   "id": "e9793577",
   "metadata": {},
   "outputs": [],
   "source": [
    "image_after_conv_1 = np.array(convolve_one_step(array_image_1, kernel_3d)).reshape(341, 343, 1)"
   ]
  },
  {
   "cell_type": "code",
   "execution_count": 132,
   "id": "87ab1493",
   "metadata": {},
   "outputs": [],
   "source": [
    "a = np.array(convolve_one_step(test_image, kernel_3d)).reshape(8, 8, 1)"
   ]
  },
  {
   "cell_type": "code",
   "execution_count": 133,
   "id": "6f78679f",
   "metadata": {},
   "outputs": [],
   "source": [
    "b = np.array(convolve_one_step(test_image, kernel_3d_2)).reshape(8, 8, 1)"
   ]
  },
  {
   "cell_type": "code",
   "execution_count": 134,
   "id": "172ccc46",
   "metadata": {},
   "outputs": [],
   "source": [
    "c = np.array(convolve_one_step(test_image, kernel_3d_3)).reshape(8, 8, 1)"
   ]
  },
  {
   "cell_type": "code",
   "execution_count": 135,
   "id": "29843e03",
   "metadata": {},
   "outputs": [
    {
     "data": {
      "text/plain": [
       "(8, 8, 1)"
      ]
     },
     "execution_count": 135,
     "metadata": {},
     "output_type": "execute_result"
    }
   ],
   "source": [
    "a.shape"
   ]
  },
  {
   "cell_type": "code",
   "execution_count": 136,
   "id": "8117bc56",
   "metadata": {},
   "outputs": [],
   "source": [
    "a = a.squeeze()"
   ]
  },
  {
   "cell_type": "code",
   "execution_count": 137,
   "id": "1b808176",
   "metadata": {},
   "outputs": [],
   "source": [
    "b = b.squeeze()"
   ]
  },
  {
   "cell_type": "code",
   "execution_count": 138,
   "id": "7f7c9877",
   "metadata": {},
   "outputs": [],
   "source": [
    "c = c.squeeze()"
   ]
  },
  {
   "cell_type": "code",
   "execution_count": 223,
   "id": "2d662abc",
   "metadata": {},
   "outputs": [],
   "source": [
    "dupa_tymona = np.stack([a, b, c], axis = 2)"
   ]
  },
  {
   "cell_type": "code",
   "execution_count": null,
   "id": "e803a90b",
   "metadata": {},
   "outputs": [],
   "source": []
  },
  {
   "cell_type": "code",
   "execution_count": 224,
   "id": "d67a653d",
   "metadata": {},
   "outputs": [
    {
     "data": {
      "text/plain": [
       "(8, 8, 3)"
      ]
     },
     "execution_count": 224,
     "metadata": {},
     "output_type": "execute_result"
    }
   ],
   "source": [
    "dupa_tymona.shape"
   ]
  },
  {
   "cell_type": "code",
   "execution_count": 14,
   "id": "5b793538",
   "metadata": {},
   "outputs": [],
   "source": [
    "def max_pooling(image_array):\n",
    "    pooling_values = []\n",
    "    for m in range(0, image_array.shape[0], 2):\n",
    "        for n in range(0, image_array.shape[1], 2):\n",
    "            for o in range(image_array.shape[2]):\n",
    "                if n + 2 > image_array.shape[1]:\n",
    "                    slice_of_pooling = image_array[m : m + 2, n - 1: n + 1 , o]\n",
    "                else:\n",
    "                    slice_of_pooling = image_array[m : m + 2, n : n + 2 , o]\n",
    "                pooling_values.append(slice_of_pooling.max())\n",
    "                #pdb.set_trace()\n",
    "    return pooling_values"
   ]
  },
  {
   "cell_type": "code",
   "execution_count": 15,
   "id": "11b582d2",
   "metadata": {},
   "outputs": [],
   "source": [
    "filtr = test_image[0 : 2, 0 : 2, 0]"
   ]
  },
  {
   "cell_type": "code",
   "execution_count": 16,
   "id": "63feba0a",
   "metadata": {},
   "outputs": [],
   "source": [
    "after_maxpool = np.array(max_pooling(test_image)).reshape(5, 5, 4)"
   ]
  },
  {
   "cell_type": "code",
   "execution_count": 17,
   "id": "b401c15e",
   "metadata": {},
   "outputs": [
    {
     "data": {
      "text/plain": [
       "(5, 5, 4)"
      ]
     },
     "execution_count": 17,
     "metadata": {},
     "output_type": "execute_result"
    }
   ],
   "source": [
    "after_maxpool.shape"
   ]
  },
  {
   "cell_type": "code",
   "execution_count": 18,
   "id": "84089c4e",
   "metadata": {},
   "outputs": [],
   "source": [
    "def ReLUv1(x):\n",
    "    after_relu = []\n",
    "    for r in x:\n",
    "        if r > 0:\n",
    "            after_relu.append(r)\n",
    "        else:\n",
    "            after_relu.append(0)\n",
    "    return after_relu"
   ]
  },
  {
   "cell_type": "code",
   "execution_count": 19,
   "id": "09672ef6",
   "metadata": {},
   "outputs": [],
   "source": [
    "def ReLUv2(x):\n",
    "    return np.maximum(0, x)"
   ]
  },
  {
   "cell_type": "code",
   "execution_count": 20,
   "id": "a8f5d3c2",
   "metadata": {},
   "outputs": [],
   "source": [
    "last_pool = np.random.rand(2, 2, 1)"
   ]
  },
  {
   "cell_type": "code",
   "execution_count": 148,
   "id": "4803327d",
   "metadata": {},
   "outputs": [],
   "source": [
    "def fully_connected(after_last_max_pool, number_of_nodes):\n",
    "    almost_values = []\n",
    "    nodes_values = []\n",
    "    flatten_array = after_last_max_pool.reshape(4)\n",
    "    weights = np.random.rand(len(flatten_array), number_of_nodes)\n",
    "    for x in range(weights.shape[1]):\n",
    "        for y in range(weights.shape[0]):\n",
    "            if y == weights.shape[0] - 1:\n",
    "                almost_values.append(weights[y : y + 1, x] * flatten_array[y])\n",
    "                nodes_values.append(sum(almost_values))\n",
    "                almost_values.clear()\n",
    "            else:\n",
    "                almost_values.append(weights[y : y + 1, x] * flatten_array[y])\n",
    "    return nodes_values"
   ]
  },
  {
   "cell_type": "code",
   "execution_count": 149,
   "id": "9215c96b",
   "metadata": {},
   "outputs": [
    {
     "data": {
      "text/plain": [
       "[array([0.44608858]),\n",
       " array([0.35665557]),\n",
       " array([0.7646605]),\n",
       " array([0.45762526])]"
      ]
     },
     "execution_count": 149,
     "metadata": {},
     "output_type": "execute_result"
    }
   ],
   "source": [
    "fully_connected(last_pool, 4)"
   ]
  },
  {
   "cell_type": "code",
   "execution_count": 157,
   "id": "354f1f3a",
   "metadata": {},
   "outputs": [],
   "source": [
    "lista = []\n",
    "for i in range(10):\n",
    "    kernel = np.random.rand(3, 3, 4)\n",
    "    lista.append(kernel)"
   ]
  },
  {
   "cell_type": "code",
   "execution_count": 182,
   "id": "6a396d4d",
   "metadata": {},
   "outputs": [
    {
     "name": "stdout",
     "output_type": "stream",
     "text": [
      "0\n",
      "1\n",
      "2\n",
      "3\n",
      "4\n",
      "5\n",
      "6\n",
      "7\n",
      "8\n",
      "9\n",
      "10\n",
      "11\n",
      "12\n",
      "13\n",
      "14\n",
      "15\n",
      "16\n",
      "17\n",
      "18\n",
      "19\n",
      "20\n",
      "21\n",
      "22\n",
      "23\n",
      "24\n",
      "25\n",
      "26\n",
      "27\n",
      "28\n",
      "29\n",
      "30\n",
      "31\n"
     ]
    }
   ],
   "source": [
    "for i in range(32):\n",
    "    print(i)"
   ]
  },
  {
   "cell_type": "code",
   "execution_count": null,
   "id": "6ea6202e",
   "metadata": {},
   "outputs": [],
   "source": []
  }
 ],
 "metadata": {
  "kernelspec": {
   "display_name": "Python 3 (ipykernel)",
   "language": "python",
   "name": "python3"
  },
  "language_info": {
   "codemirror_mode": {
    "name": "ipython",
    "version": 3
   },
   "file_extension": ".py",
   "mimetype": "text/x-python",
   "name": "python",
   "nbconvert_exporter": "python",
   "pygments_lexer": "ipython3",
   "version": "3.11.7"
  }
 },
 "nbformat": 4,
 "nbformat_minor": 5
}
