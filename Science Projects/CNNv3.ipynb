{
 "cells": [
  {
   "cell_type": "code",
   "execution_count": 3,
   "id": "c1ecb639",
   "metadata": {},
   "outputs": [],
   "source": [
    "import numpy as np\n",
    "import pdb\n",
    "from PIL import Image\n",
    "from scipy import ndimage\n",
    "import os\n",
    "import unittest\n",
    "from scipy.ndimage import maximum_filter"
   ]
  },
  {
   "cell_type": "code",
   "execution_count": 289,
   "id": "cf6256f2",
   "metadata": {},
   "outputs": [],
   "source": [
    "png_file = Image.open(\"C:\\\\Data\\\\2.png\")\n",
    "array_image = np.array(png_file)\n",
    "kernel_3d = np.random.rand(3, 3, 4)\n",
    "kernel_32d = np.random.rand(3, 3, 32)\n",
    "png_file_1 = Image.open(\"C:\\\\Data\\\\1.png\")\n",
    "array_image_1 = np.array(png_file_1)\n",
    "png_file_2 = Image.open(\"C:\\\\Data\\\\7.png\")\n",
    "array_image_2 = np.array(png_file_2)"
   ]
  },
  {
   "cell_type": "code",
   "execution_count": 120,
   "id": "761b4fe2",
   "metadata": {},
   "outputs": [
    {
     "data": {
      "text/plain": [
       "(343, 345, 4)"
      ]
     },
     "execution_count": 120,
     "metadata": {},
     "output_type": "execute_result"
    }
   ],
   "source": [
    "array_image_1.shape"
   ]
  },
  {
   "cell_type": "code",
   "execution_count": 316,
   "id": "9684a460",
   "metadata": {},
   "outputs": [],
   "source": [
    "test = np.random.rand(294, 292, 32)"
   ]
  },
  {
   "cell_type": "code",
   "execution_count": 317,
   "id": "1f890e3f",
   "metadata": {},
   "outputs": [],
   "source": [
    "filtry = create_kernels(64, 32)"
   ]
  },
  {
   "cell_type": "code",
   "execution_count": 98,
   "id": "ac240afa",
   "metadata": {},
   "outputs": [],
   "source": [
    "to_stack = []"
   ]
  },
  {
   "cell_type": "code",
   "execution_count": 5,
   "id": "d6bea79f",
   "metadata": {},
   "outputs": [
    {
     "data": {
      "text/plain": [
       "array([[[0.97579188, 0.09795808, 0.59583553, 0.5651619 ],\n",
       "        [0.49750619, 0.06103113, 0.02122378, 0.60717651],\n",
       "        [0.3420268 , 0.45209318, 0.99694965, 0.68103131]],\n",
       "\n",
       "       [[0.17337962, 0.29205918, 0.0787763 , 0.63871139],\n",
       "        [0.38942155, 0.53914352, 0.359275  , 0.9200078 ],\n",
       "        [0.00591711, 0.61160558, 0.67066265, 0.93274303]],\n",
       "\n",
       "       [[0.6657244 , 0.73505632, 0.80927753, 0.5256376 ],\n",
       "        [0.6160557 , 0.79009258, 0.32372186, 0.64066075],\n",
       "        [0.10862612, 0.6651775 , 0.85617951, 0.33736937]]])"
      ]
     },
     "execution_count": 5,
     "metadata": {},
     "output_type": "execute_result"
    }
   ],
   "source": [
    "kernel_3d"
   ]
  },
  {
   "cell_type": "code",
   "execution_count": 87,
   "id": "5f47e16c",
   "metadata": {},
   "outputs": [],
   "source": [
    "def reshape_dimensions_convolution(input_height, input_width, filter_height, filter_width, stride):\n",
    "    output_height = int(((input_height - filter_height) / stride) + 1)\n",
    "    output_width  = int(((input_width - filter_width)  / stride) + 1)\n",
    "    return (output_height, output_width)"
   ]
  },
  {
   "cell_type": "code",
   "execution_count": 55,
   "id": "cbc94cd2",
   "metadata": {},
   "outputs": [],
   "source": [
    "def reshape_dimensions_pooling(input_height, input_width, f, s):\n",
    "    output_height = int(((input_height - f) / s) + 1)\n",
    "    output_width = int(((input_width - f) / s) + 1)\n",
    "    return (output_height, output_width)"
   ]
  },
  {
   "cell_type": "code",
   "execution_count": 121,
   "id": "bb417220",
   "metadata": {},
   "outputs": [],
   "source": [
    "def forward_pass(image):\n",
    "    shape = image.shape\n",
    "    kernels = create_kernels(32, 4)\n",
    "    kernels2 =  create_kernels(64, 32)\n",
    "    to_stack_values = []\n",
    "    dimensions = reshape_dimensions_convolution(shape[0], shape[1], 3, 3, 1) \n",
    "    for i in range(len(kernels)):\n",
    "        to_stack_values.append(np.squeeze(convolve_one_step(image, kernels[i]).reshape(dimensions[0], dimensions[1], 1)))\n",
    "    pdb.set_trace()\n",
    "    stacked_filters = np.stack(to_stack_values, axis = 2)\n",
    "    first_ReLU = ReLUv2(stacked_filters)\n",
    "    pool_to_reshape = reshape_dimensions_pooling(first_ReLU.shape[0], first_ReLU.shape[1], 2, 2)\n",
    "    first_max_pool = np.array(max_pooling(first_ReLU)).reshape(pool_to_reshape[0], pool_to_reshape[1], 32)\n",
    "    to_stack_values.clear()\n",
    "    shape2 = first_max_pool.shape\n",
    "    dimensions2 = reshape_dimensions_convolution(shape2[0], shape2[1], 3, 3, 1)\n",
    "    for f in range(len(kernels2)):\n",
    "        to_stack_values.append(np.squeeze(convolve_one_step(first_max_pool, kernels2[f]).reshape(dimensions2[0], dimensions2[1], 1)))\n",
    "    stacked_filters2 = np.stack(to_stack_values, axis = 2)\n",
    "    second_ReLU = ReLUv2(stacked_filters2)\n",
    "    pool_to_reshape2 = reshape_dimensions_pooling(second_ReLU.shape[0], second_ReLU.shape[1], 2, 2)\n",
    "    second_max_pool = np.array(max_pooling(second_ReLU).reshape(pool_to_reshape[2], pool_to_reshape[2]), 64)\n",
    "    return second_max_pool\n",
    "    "
   ]
  },
  {
   "cell_type": "code",
   "execution_count": 332,
   "id": "e2a21e0c",
   "metadata": {},
   "outputs": [],
   "source": [
    "shajp = test.shape"
   ]
  },
  {
   "cell_type": "code",
   "execution_count": 335,
   "id": "b322db85",
   "metadata": {},
   "outputs": [],
   "source": [
    "to_reshape = reshape_dimensions_convolution(shajp[0], shajp[1], 3, 3, 1)"
   ]
  },
  {
   "cell_type": "code",
   "execution_count": 339,
   "id": "2ca34500",
   "metadata": {},
   "outputs": [],
   "source": [
    "for f in range(len(filtry)):\n",
    "    to_stack.append(np.squeeze(convolve_one_step(test, filtry[f]).reshape(to_reshape[0], to_reshape[1], 1)))"
   ]
  },
  {
   "cell_type": "code",
   "execution_count": 341,
   "id": "28554ef1",
   "metadata": {},
   "outputs": [],
   "source": [
    "alfa = np.stack(to_stack, axis = 2)"
   ]
  },
  {
   "cell_type": "code",
   "execution_count": 343,
   "id": "d2fed909",
   "metadata": {},
   "outputs": [
    {
     "data": {
      "text/plain": [
       "(292, 290, 64)"
      ]
     },
     "execution_count": 343,
     "metadata": {},
     "output_type": "execute_result"
    }
   ],
   "source": [
    "alfa.shape"
   ]
  },
  {
   "cell_type": "code",
   "execution_count": 314,
   "id": "11536dab",
   "metadata": {},
   "outputs": [],
   "source": [
    "def create_kernels(number_to_create, depth):\n",
    "    every_kernel = []\n",
    "    for f_u in range(number_to_create):\n",
    "        every_kernel.append(np.random.rand(3, 3, depth))\n",
    "    return every_kernel"
   ]
  },
  {
   "cell_type": "code",
   "execution_count": 310,
   "id": "e3049033",
   "metadata": {},
   "outputs": [],
   "source": [
    "test_image = np.random.rand(10, 10, 4)"
   ]
  },
  {
   "cell_type": "code",
   "execution_count": 307,
   "id": "7c8cd443",
   "metadata": {},
   "outputs": [],
   "source": [
    "def convolve_one_step(input_image, kernel_used):\n",
    "    intermediate_values = []\n",
    "    dimensions = input_image.shape\n",
    "    final_values = []\n",
    "    for i in range(dimensions[0] - 2):\n",
    "        for j in range(dimensions[1] - 2):\n",
    "            for k in range(dimensions[2]):\n",
    "                slice_of_image = input_image[i : i + 3, j : j + 3, k]\n",
    "                real_kernel = kernel_used[:, :, k]\n",
    "                value = np.vdot(slice_of_image, real_kernel)\n",
    "                intermediate_values.append(value)\n",
    "                #pdb.set_trace()\n",
    "                if len(intermediate_values) == dimensions[2]:\n",
    "                    final_values.append(sum_dimension(intermediate_values))\n",
    "                    intermediate_values.clear()\n",
    "    return np.array(final_values)"
   ]
  },
  {
   "cell_type": "code",
   "execution_count": 20,
   "id": "46848499",
   "metadata": {},
   "outputs": [],
   "source": [
    "def sum_dimension(list_of_three):\n",
    "    return sum(list_of_three)"
   ]
  },
  {
   "cell_type": "code",
   "execution_count": 21,
   "id": "cc9d5c83",
   "metadata": {},
   "outputs": [
    {
     "ename": "NameError",
     "evalue": "name 'dimensions' is not defined",
     "output_type": "error",
     "traceback": [
      "\u001b[1;31m---------------------------------------------------------------------------\u001b[0m",
      "\u001b[1;31mNameError\u001b[0m                                 Traceback (most recent call last)",
      "Cell \u001b[1;32mIn[21], line 1\u001b[0m\n\u001b[1;32m----> 1\u001b[0m image_after_conv_2 \u001b[38;5;241m=\u001b[39m np\u001b[38;5;241m.\u001b[39marray(convolve_one_step(array_image, kernel_3d))\u001b[38;5;241m.\u001b[39mreshape(dimensions[\u001b[38;5;241m0\u001b[39m], dimensions[\u001b[38;5;241m1\u001b[39m], \u001b[38;5;241m1\u001b[39m)\n",
      "\u001b[1;31mNameError\u001b[0m: name 'dimensions' is not defined"
     ]
    }
   ],
   "source": [
    "image_after_conv_2 = np.array(convolve_one_step(array_image, kernel_3d)).reshape(dimensions[0], dimensions[1], 1)"
   ]
  },
  {
   "cell_type": "code",
   "execution_count": null,
   "id": "abc46dcf",
   "metadata": {},
   "outputs": [],
   "source": [
    "image_after_conv_2.shape"
   ]
  },
  {
   "cell_type": "code",
   "execution_count": null,
   "id": "e9793577",
   "metadata": {},
   "outputs": [],
   "source": [
    "image_after_conv_1 = np.array(convolve_one_step(array_image_1, kernel_3d)).reshape(341, 343, 1)"
   ]
  },
  {
   "cell_type": "code",
   "execution_count": 275,
   "id": "87ab1493",
   "metadata": {},
   "outputs": [],
   "source": [
    "a = np.array(convolve_one_step(test_image, kernel_3d)).reshape(8, 8, 1)"
   ]
  },
  {
   "cell_type": "code",
   "execution_count": 276,
   "id": "6f78679f",
   "metadata": {},
   "outputs": [],
   "source": [
    "b = np.array(convolve_one_step(test_image, kernel_3d_2)).reshape(8, 8, 1)"
   ]
  },
  {
   "cell_type": "code",
   "execution_count": 277,
   "id": "172ccc46",
   "metadata": {},
   "outputs": [],
   "source": [
    "c = np.array(convolve_one_step(test_image, kernel_3d_3)).reshape(8, 8, 1)"
   ]
  },
  {
   "cell_type": "code",
   "execution_count": 278,
   "id": "29843e03",
   "metadata": {},
   "outputs": [
    {
     "data": {
      "text/plain": [
       "(8, 8, 1)"
      ]
     },
     "execution_count": 278,
     "metadata": {},
     "output_type": "execute_result"
    }
   ],
   "source": [
    "a.shape"
   ]
  },
  {
   "cell_type": "code",
   "execution_count": 279,
   "id": "8117bc56",
   "metadata": {},
   "outputs": [],
   "source": [
    "a = a.squeeze()"
   ]
  },
  {
   "cell_type": "code",
   "execution_count": 280,
   "id": "1b808176",
   "metadata": {},
   "outputs": [],
   "source": [
    "b = b.squeeze()"
   ]
  },
  {
   "cell_type": "code",
   "execution_count": 281,
   "id": "7f7c9877",
   "metadata": {},
   "outputs": [],
   "source": [
    "c = c.squeeze()"
   ]
  },
  {
   "cell_type": "code",
   "execution_count": 283,
   "id": "a92486b8",
   "metadata": {},
   "outputs": [
    {
     "data": {
      "text/plain": [
       "array([[ 9.54790164, 10.6565483 ,  9.39649574,  9.64609363, 10.13447533,\n",
       "        11.03573752, 11.85757551, 10.67386543],\n",
       "       [ 9.12903275,  9.82200007,  9.27298965,  9.69934024, 11.32673874,\n",
       "        11.3287305 , 11.22928668,  9.28639457],\n",
       "       [ 8.60544452,  9.32410902, 10.75884813,  9.71445442,  9.5567037 ,\n",
       "        10.57367801, 10.02161708, 10.3587956 ],\n",
       "       [ 9.5034332 ,  9.34867802,  9.68787524,  9.83468329,  8.90299788,\n",
       "         8.38941811,  9.89182205, 10.22037535],\n",
       "       [ 8.47879535,  9.60069878, 10.7595178 ,  9.58167921,  9.03443968,\n",
       "         9.0630678 , 10.51611851, 11.1369592 ],\n",
       "       [ 9.30176348,  9.44569243, 10.70986896,  9.79774711,  9.27245723,\n",
       "        10.50470211, 11.12966361, 11.04197597],\n",
       "       [ 9.11033151, 10.44602876,  9.71948831, 10.60129959,  9.31053942,\n",
       "        10.1052088 , 11.02665671, 10.95409363],\n",
       "       [ 8.78549919,  8.96082636,  7.77460272,  7.08828344,  7.38471261,\n",
       "         9.94769685, 10.93531029, 11.14555735]])"
      ]
     },
     "execution_count": 283,
     "metadata": {},
     "output_type": "execute_result"
    }
   ],
   "source": [
    "a"
   ]
  },
  {
   "cell_type": "code",
   "execution_count": 284,
   "id": "2453c0e6",
   "metadata": {},
   "outputs": [
    {
     "data": {
      "text/plain": [
       "array([[ 9.44924823,  9.89445793,  8.29965551,  9.69743835, 10.98087816,\n",
       "        11.7184895 , 11.25942447, 10.01320655],\n",
       "       [ 9.20639454, 10.69517855,  9.1236393 ,  9.16649243,  9.14245804,\n",
       "        11.9406294 , 10.28018141, 10.12435873],\n",
       "       [ 8.76281344,  9.35448148, 10.17868114,  9.1634896 ,  9.03586633,\n",
       "         9.69253807, 10.05097906,  9.73144927],\n",
       "       [ 8.55459851,  9.56132553,  9.95898043,  9.10153536,  8.32361792,\n",
       "         8.17239369,  9.840852  , 10.70035263],\n",
       "       [ 8.24774563,  8.06783479, 10.8915276 ,  9.89632226,  9.19344604,\n",
       "         8.0989777 , 10.14991029, 10.89533519],\n",
       "       [ 9.27240544,  9.25579034,  9.51313396, 10.30546283,  8.34317553,\n",
       "        10.08760486,  9.87835541, 11.00567937],\n",
       "       [ 9.26901676, 10.36363174, 10.11051291,  9.28225436, 10.16545403,\n",
       "         9.82278364, 10.77662643, 10.51914221],\n",
       "       [ 7.98286722,  8.47089819,  8.40780529,  7.75603283,  7.87150752,\n",
       "        10.497689  , 10.45495576, 10.40175168]])"
      ]
     },
     "execution_count": 284,
     "metadata": {},
     "output_type": "execute_result"
    }
   ],
   "source": [
    "b"
   ]
  },
  {
   "cell_type": "code",
   "execution_count": 285,
   "id": "4e0376d8",
   "metadata": {},
   "outputs": [
    {
     "data": {
      "text/plain": [
       "array([[ 8.89794567,  9.61986927,  9.18505854,  8.91740733, 10.73067685,\n",
       "        10.61628627, 10.96966588,  9.43857622],\n",
       "       [ 8.5750684 ,  9.15150425,  9.43470843,  9.04332171,  9.581106  ,\n",
       "         9.78461478,  9.14772544,  9.2736566 ],\n",
       "       [ 8.81982703,  8.17921697, 10.04416932,  9.03973521,  8.91279471,\n",
       "         8.91489242,  8.733983  ,  9.65893087],\n",
       "       [ 8.16943651,  8.44038798,  8.90873136,  9.01932826,  7.90989837,\n",
       "         8.36341163,  8.16332222, 10.01002449],\n",
       "       [ 8.28337983,  7.87683988,  9.6495377 ,  8.78439104,  8.07320467,\n",
       "         9.36065831,  9.22800095,  9.90966799],\n",
       "       [ 9.57276987,  8.90576106,  9.79055781,  9.32551585,  9.35601951,\n",
       "         9.32483334,  9.66650855, 10.62266264],\n",
       "       [ 9.44276301,  9.25114494,  9.63752208,  8.71254021,  8.62808516,\n",
       "        10.01531609,  9.82879683, 10.39414203],\n",
       "       [ 7.57336225,  7.29284313,  8.02370963,  6.99035861,  6.82089897,\n",
       "         9.69505497, 10.01872633,  9.8090814 ]])"
      ]
     },
     "execution_count": 285,
     "metadata": {},
     "output_type": "execute_result"
    }
   ],
   "source": [
    "c"
   ]
  },
  {
   "cell_type": "code",
   "execution_count": 286,
   "id": "2d662abc",
   "metadata": {},
   "outputs": [],
   "source": [
    "dupa_tymona = np.stack([a, b, c], axis = 2)"
   ]
  },
  {
   "cell_type": "code",
   "execution_count": 287,
   "id": "d67a653d",
   "metadata": {},
   "outputs": [
    {
     "data": {
      "text/plain": [
       "(8, 8, 3)"
      ]
     },
     "execution_count": 287,
     "metadata": {},
     "output_type": "execute_result"
    }
   ],
   "source": [
    "dupa_tymona.shape"
   ]
  },
  {
   "cell_type": "code",
   "execution_count": 38,
   "id": "5b793538",
   "metadata": {},
   "outputs": [],
   "source": [
    "def max_pooling(image_array):\n",
    "    pooling_values = []\n",
    "    for m in range(0, image_array.shape[0], 2):\n",
    "        for n in range(0, image_array.shape[1], 2):\n",
    "            for o in range(image_array.shape[2]):\n",
    "                if n + 2 > image_array.shape[1]:\n",
    "                    slice_of_pooling = image_array[m : m + 2, n - 1: n + 1 , o]\n",
    "                else:\n",
    "                    slice_of_pooling = image_array[m : m + 2, n : n + 2 , o]\n",
    "                pooling_values.append(slice_of_pooling.max())\n",
    "                #pdb.set_trace()\n",
    "    return pooling_values"
   ]
  },
  {
   "cell_type": "code",
   "execution_count": null,
   "id": "11b582d2",
   "metadata": {},
   "outputs": [],
   "source": [
    "filtr = test_image[0 : 2, 0 : 2, 0]"
   ]
  },
  {
   "cell_type": "code",
   "execution_count": null,
   "id": "63feba0a",
   "metadata": {},
   "outputs": [],
   "source": [
    "after_maxpool = np.array(max_pooling(test_image)).reshape(5, 5, 4)"
   ]
  },
  {
   "cell_type": "code",
   "execution_count": null,
   "id": "b401c15e",
   "metadata": {},
   "outputs": [],
   "source": [
    "after_maxpool.shape"
   ]
  },
  {
   "cell_type": "code",
   "execution_count": 28,
   "id": "84089c4e",
   "metadata": {},
   "outputs": [],
   "source": [
    "def ReLUv1(x):\n",
    "    after_relu = []\n",
    "    for r in x:\n",
    "        if r > 0:\n",
    "            after_relu.append(r)\n",
    "        else:\n",
    "            after_relu.append(0)\n",
    "    return after_relu"
   ]
  },
  {
   "cell_type": "code",
   "execution_count": 29,
   "id": "09672ef6",
   "metadata": {},
   "outputs": [],
   "source": [
    "def ReLUv2(x):\n",
    "    return np.maximum(0, x)"
   ]
  },
  {
   "cell_type": "code",
   "execution_count": 30,
   "id": "a8f5d3c2",
   "metadata": {},
   "outputs": [],
   "source": [
    "last_pool = np.random.rand(2, 2, 1)"
   ]
  },
  {
   "cell_type": "code",
   "execution_count": 31,
   "id": "4803327d",
   "metadata": {},
   "outputs": [],
   "source": [
    "def fully_connected(after_last_max_pool, number_of_nodes):\n",
    "    almost_values = []\n",
    "    nodes_values = []\n",
    "    flatten_array = after_last_max_pool.reshape(4)\n",
    "    weights = np.random.rand(len(flatten_array), number_of_nodes)\n",
    "    for x in range(weights.shape[1]):\n",
    "        for y in range(weights.shape[0]):\n",
    "            if y == weights.shape[0] - 1:\n",
    "                almost_values.append(weights[y : y + 1, x] * flatten_array[y])\n",
    "                nodes_values.append(sum(almost_values))\n",
    "                almost_values.clear()\n",
    "            else:\n",
    "                almost_values.append(weights[y : y + 1, x] * flatten_array[y])\n",
    "    return nodes_values"
   ]
  },
  {
   "cell_type": "code",
   "execution_count": 32,
   "id": "9215c96b",
   "metadata": {},
   "outputs": [
    {
     "data": {
      "text/plain": [
       "[array([0.37035173]),\n",
       " array([0.14957847]),\n",
       " array([0.2416212]),\n",
       " array([0.28055913])]"
      ]
     },
     "execution_count": 32,
     "metadata": {},
     "output_type": "execute_result"
    }
   ],
   "source": [
    "fully_connected(last_pool, 4)"
   ]
  },
  {
   "cell_type": "code",
   "execution_count": 33,
   "id": "354f1f3a",
   "metadata": {},
   "outputs": [],
   "source": [
    "lista = []\n",
    "for i in range(10):\n",
    "    kernel = np.random.rand(3, 3, 4)\n",
    "    lista.append(kernel)"
   ]
  },
  {
   "cell_type": "code",
   "execution_count": null,
   "id": "6ea6202e",
   "metadata": {},
   "outputs": [],
   "source": []
  }
 ],
 "metadata": {
  "kernelspec": {
   "display_name": "Python 3 (ipykernel)",
   "language": "python",
   "name": "python3"
  },
  "language_info": {
   "codemirror_mode": {
    "name": "ipython",
    "version": 3
   },
   "file_extension": ".py",
   "mimetype": "text/x-python",
   "name": "python",
   "nbconvert_exporter": "python",
   "pygments_lexer": "ipython3",
   "version": "3.11.7"
  }
 },
 "nbformat": 4,
 "nbformat_minor": 5
}
