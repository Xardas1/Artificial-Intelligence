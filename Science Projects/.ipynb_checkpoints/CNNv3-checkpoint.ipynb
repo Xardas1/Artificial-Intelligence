{
 "cells": [
  {
   "cell_type": "code",
   "execution_count": 1,
   "id": "c1ecb639",
   "metadata": {},
   "outputs": [],
   "source": [
    "import numpy as np\n",
    "import pdb\n",
    "from PIL import Image\n",
    "from scipy import ndimage\n",
    "import os\n",
    "import unittest\n",
    "from scipy.ndimage import maximum_filter\n",
    "from numpy.lib.stride_tricks import as_strided\n",
    "from datetime import datetime"
   ]
  },
  {
   "cell_type": "code",
   "execution_count": 2,
   "id": "cf6256f2",
   "metadata": {},
   "outputs": [],
   "source": [
    "png_file = Image.open(\"C:\\\\Data\\\\2.png\")\n",
    "array_image = np.array(png_file)\n",
    "kernel_3d = np.random.rand(3, 3, 4)\n",
    "kernel_32d = np.random.rand(3, 3, 32)\n",
    "png_file_1 = Image.open(\"C:\\\\Data\\\\1.png\")\n",
    "array_image_1 = np.array(png_file_1)\n",
    "png_file_2 = Image.open(\"C:\\\\Data\\\\7.png\")\n",
    "array_image_2 = np.array(png_file_2)\n",
    "bias = np.random.rand(120, 1)\n",
    "bias2 = np.random.rand(10, 1)"
   ]
  },
  {
   "cell_type": "code",
   "execution_count": 3,
   "id": "ae441dc9",
   "metadata": {},
   "outputs": [
    {
     "data": {
      "text/plain": [
       "array([[0.42624268],\n",
       "       [0.50984166],\n",
       "       [0.14513601],\n",
       "       [0.9272095 ],\n",
       "       [0.02824684],\n",
       "       [0.5691992 ],\n",
       "       [0.16701904],\n",
       "       [0.30973121],\n",
       "       [0.67243509],\n",
       "       [0.93590172]])"
      ]
     },
     "execution_count": 3,
     "metadata": {},
     "output_type": "execute_result"
    }
   ],
   "source": [
    "bias2"
   ]
  },
  {
   "cell_type": "code",
   "execution_count": 4,
   "id": "947aa2e3",
   "metadata": {},
   "outputs": [
    {
     "data": {
      "text/plain": [
       "(590, 586, 4)"
      ]
     },
     "execution_count": 4,
     "metadata": {},
     "output_type": "execute_result"
    }
   ],
   "source": [
    "array_image.shape"
   ]
  },
  {
   "cell_type": "code",
   "execution_count": 5,
   "id": "02e3d2c3",
   "metadata": {},
   "outputs": [
    {
     "data": {
      "text/plain": [
       "(590, 586, 4)"
      ]
     },
     "execution_count": 5,
     "metadata": {},
     "output_type": "execute_result"
    }
   ],
   "source": [
    "array_image.shape"
   ]
  },
  {
   "cell_type": "code",
   "execution_count": 6,
   "id": "0fe96224",
   "metadata": {},
   "outputs": [
    {
     "data": {
      "text/plain": [
       "array([[0.91955306, 0.21621888],\n",
       "       [0.56605103, 0.39887477]])"
      ]
     },
     "execution_count": 6,
     "metadata": {},
     "output_type": "execute_result"
    }
   ],
   "source": [
    "np.random.rand(2, 2)"
   ]
  },
  {
   "cell_type": "code",
   "execution_count": 7,
   "id": "761b4fe2",
   "metadata": {},
   "outputs": [
    {
     "data": {
      "text/plain": [
       "(343, 345, 4)"
      ]
     },
     "execution_count": 7,
     "metadata": {},
     "output_type": "execute_result"
    }
   ],
   "source": [
    "array_image_1.shape"
   ]
  },
  {
   "cell_type": "code",
   "execution_count": 8,
   "id": "9684a460",
   "metadata": {},
   "outputs": [],
   "source": [
    "test = np.random.rand(294, 292, 32)"
   ]
  },
  {
   "cell_type": "code",
   "execution_count": 9,
   "id": "ac240afa",
   "metadata": {},
   "outputs": [],
   "source": [
    "to_stack = []"
   ]
  },
  {
   "cell_type": "code",
   "execution_count": 10,
   "id": "d6bea79f",
   "metadata": {},
   "outputs": [
    {
     "ename": "NameError",
     "evalue": "name 'create_kernels' is not defined",
     "output_type": "error",
     "traceback": [
      "\u001b[1;31m---------------------------------------------------------------------------\u001b[0m",
      "\u001b[1;31mNameError\u001b[0m                                 Traceback (most recent call last)",
      "Cell \u001b[1;32mIn[10], line 1\u001b[0m\n\u001b[1;32m----> 1\u001b[0m t \u001b[38;5;241m=\u001b[39m np\u001b[38;5;241m.\u001b[39marray(create_kernels(\u001b[38;5;241m64\u001b[39m, \u001b[38;5;241m32\u001b[39m))\n",
      "\u001b[1;31mNameError\u001b[0m: name 'create_kernels' is not defined"
     ]
    }
   ],
   "source": [
    "t = np.array(create_kernels(64, 32))"
   ]
  },
  {
   "cell_type": "code",
   "execution_count": null,
   "id": "f2d0c6e4",
   "metadata": {},
   "outputs": [],
   "source": [
    "t.shape"
   ]
  },
  {
   "cell_type": "code",
   "execution_count": 34,
   "id": "5f47e16c",
   "metadata": {},
   "outputs": [],
   "source": [
    "def reshape_dimensions_convolution(input_height, input_width, filter_height, filter_width, stride):\n",
    "    output_height = int(((input_height - filter_height) / stride) + 1)\n",
    "    output_width  = int(((input_width - filter_width)  / stride) + 1)\n",
    "    return (output_height, output_width)"
   ]
  },
  {
   "cell_type": "code",
   "execution_count": null,
   "id": "5a6dcfb1",
   "metadata": {},
   "outputs": [],
   "source": [
    "reshape_dimensions_convolution(3, 3, 2, 2, 1)"
   ]
  },
  {
   "cell_type": "code",
   "execution_count": 33,
   "id": "cbc94cd2",
   "metadata": {},
   "outputs": [],
   "source": [
    "def reshape_dimensions_pooling(input_height, input_width, f, s):\n",
    "    output_height = int(((input_height - f) / s) + 1)\n",
    "    output_width = int(((input_width - f) / s) + 1)\n",
    "    return (output_height, output_width)"
   ]
  },
  {
   "cell_type": "code",
   "execution_count": 12,
   "id": "bb417220",
   "metadata": {},
   "outputs": [],
   "source": [
    "def forward_pass(image):\n",
    "    shape = image.shape\n",
    "    kernels = create_kernels(32, 4)\n",
    "    kernels2 =  create_kernels(64, 32)\n",
    "    to_stack_values = []\n",
    "    dimensions = reshape_dimensions_convolution(shape[0], shape[1], 3, 3, 1) \n",
    "    for i in range(len(kernels)):\n",
    "        to_stack_values.append(convolve_one_step_vectorized(image, kernels[i], 36))\n",
    "    stacked_filters = np.stack(to_stack_values, axis = 2)\n",
    "    first_ReLU = ReLUv2(stacked_filters)\n",
    "    pool_to_reshape = reshape_dimensions_pooling(first_ReLU.shape[0], first_ReLU.shape[1], 2, 2)\n",
    "    first_max_pool = np.array(max_pooling(first_ReLU)).reshape(pool_to_reshape[0], pool_to_reshape[1], 32)\n",
    "    to_stack_values.clear()\n",
    "    shape2 = first_max_pool.shape\n",
    "    for f in range(len(kernels2)):\n",
    "        to_stack_values.append(convolve_one_step_vectorized(first_max_pool, kernels2[f], 288))\n",
    "    stacked_filters2 = np.stack(to_stack_values, axis = 2)\n",
    "    second_ReLU = ReLUv2(stacked_filters2)\n",
    "    pool_to_reshape2 = reshape_dimensions_pooling(second_ReLU.shape[0], second_ReLU.shape[1], 2, 2)\n",
    "    second_max_pool = np.array(max_pooling(second_ReLU)).reshape(pool_to_reshape2[0], pool_to_reshape2[1], 64)\n",
    "    fully_connected = fully_connected_vectorized(second_max_pool, 120, bias)\n",
    "    classification = fully_connected_vectorized(fully_connected, 10, bias2)\n",
    "    softmax = More_Robust_Softmax(classification)\n",
    "    return softmax\n",
    "    \"\"\"\n",
    "    stacked_filters2 = np.stack(to_stack_values, axis = 2)\n",
    "    second_ReLU = np.array(ReLUv2(stacked_filters2))\n",
    "    pool_to_reshape2 = reshape_dimensions_pooling(second_ReLU.shape[0], second_ReLU.shape[1], 2, 2)\n",
    "    second_max_pool = np.array(max_pooling(second_ReLU).reshape(pool_to_reshape[2], pool_to_reshape[2]), 64)\n",
    "    return second_max_pool\n",
    "    \"\"\""
   ]
  },
  {
   "cell_type": "code",
   "execution_count": null,
   "id": "3781cc44",
   "metadata": {},
   "outputs": [],
   "source": [
    "forward_pass(array_image)"
   ]
  },
  {
   "cell_type": "code",
   "execution_count": 14,
   "id": "b322db85",
   "metadata": {},
   "outputs": [
    {
     "ename": "NameError",
     "evalue": "name 'reshape_dimensions_convolution' is not defined",
     "output_type": "error",
     "traceback": [
      "\u001b[1;31m---------------------------------------------------------------------------\u001b[0m",
      "\u001b[1;31mNameError\u001b[0m                                 Traceback (most recent call last)",
      "Cell \u001b[1;32mIn[14], line 1\u001b[0m\n\u001b[1;32m----> 1\u001b[0m to_reshape \u001b[38;5;241m=\u001b[39m reshape_dimensions_convolution(shajp[\u001b[38;5;241m0\u001b[39m], shajp[\u001b[38;5;241m1\u001b[39m], \u001b[38;5;241m3\u001b[39m, \u001b[38;5;241m3\u001b[39m, \u001b[38;5;241m1\u001b[39m)\n",
      "\u001b[1;31mNameError\u001b[0m: name 'reshape_dimensions_convolution' is not defined"
     ]
    }
   ],
   "source": [
    "to_reshape = reshape_dimensions_convolution(shajp[0], shajp[1], 3, 3, 1)"
   ]
  },
  {
   "cell_type": "code",
   "execution_count": 15,
   "id": "11536dab",
   "metadata": {},
   "outputs": [],
   "source": [
    "def create_kernels(number_to_create, depth):\n",
    "    every_kernel = []\n",
    "    for f_u in range(number_to_create):\n",
    "        every_kernel.append(np.random.rand(3, 3, depth))\n",
    "    return np.array(every_kernel)"
   ]
  },
  {
   "cell_type": "code",
   "execution_count": 16,
   "id": "e3049033",
   "metadata": {},
   "outputs": [],
   "source": [
    "test_image = np.random.rand(10, 10, 4)"
   ]
  },
  {
   "cell_type": "code",
   "execution_count": 17,
   "id": "7c8cd443",
   "metadata": {},
   "outputs": [],
   "source": [
    "def convolve_one_step(input_image, kernel_used):\n",
    "    intermediate_values = []\n",
    "    dimensions = input_image.shape\n",
    "    dimensions_kernel = kernel_used.shape\n",
    "    final_values = []\n",
    "    dimensions_to_reshape = reshape_dimensions_convolution(dimensions[0], dimensions[1], dimensions_kernel[0], dimensions_kernel[1], 1)\n",
    "    for i in range(dimensions[0] - 2):\n",
    "        for j in range(dimensions[1] - 2):\n",
    "            for k in range(dimensions[2] ):\n",
    "                slice_of_image = input_image[i : i + 3, j : j + 3, k]\n",
    "                real_kernel = kernel_used[:, :, k]\n",
    "                value = np.vdot(slice_of_image, real_kernel)\n",
    "                intermediate_values.append(value)\n",
    "                #pdb.set_trace()\n",
    "                if len(intermediate_values) == dimensions[2]:\n",
    "                    final_values.append(sum_dimension(intermediate_values))\n",
    "                    intermediate_values.clear()\n",
    "    return np.array(final_values).reshape(dimensions_to_reshape)"
   ]
  },
  {
   "cell_type": "code",
   "execution_count": 18,
   "id": "46848499",
   "metadata": {},
   "outputs": [],
   "source": [
    "def sum_dimension(list_of_three):\n",
    "    return sum(list_of_three)"
   ]
  },
  {
   "cell_type": "code",
   "execution_count": 19,
   "id": "cc9d5c83",
   "metadata": {},
   "outputs": [
    {
     "ename": "NameError",
     "evalue": "name 'reshape_dimensions_convolution' is not defined",
     "output_type": "error",
     "traceback": [
      "\u001b[1;31m---------------------------------------------------------------------------\u001b[0m",
      "\u001b[1;31mNameError\u001b[0m                                 Traceback (most recent call last)",
      "Cell \u001b[1;32mIn[19], line 1\u001b[0m\n\u001b[1;32m----> 1\u001b[0m image_after_conv_2 \u001b[38;5;241m=\u001b[39m np\u001b[38;5;241m.\u001b[39marray(convolve_one_step(array_image, kernel_3d))\u001b[38;5;241m.\u001b[39mreshape(dimensions[\u001b[38;5;241m0\u001b[39m], dimensions[\u001b[38;5;241m1\u001b[39m], \u001b[38;5;241m1\u001b[39m)\n",
      "Cell \u001b[1;32mIn[17], line 6\u001b[0m, in \u001b[0;36mconvolve_one_step\u001b[1;34m(input_image, kernel_used)\u001b[0m\n\u001b[0;32m      4\u001b[0m dimensions_kernel \u001b[38;5;241m=\u001b[39m kernel_used\u001b[38;5;241m.\u001b[39mshape\n\u001b[0;32m      5\u001b[0m final_values \u001b[38;5;241m=\u001b[39m []\n\u001b[1;32m----> 6\u001b[0m dimensions_to_reshape \u001b[38;5;241m=\u001b[39m reshape_dimensions_convolution(dimensions[\u001b[38;5;241m0\u001b[39m], dimensions[\u001b[38;5;241m1\u001b[39m], dimensions_kernel[\u001b[38;5;241m0\u001b[39m], dimensions_kernel[\u001b[38;5;241m1\u001b[39m], \u001b[38;5;241m1\u001b[39m)\n\u001b[0;32m      7\u001b[0m \u001b[38;5;28;01mfor\u001b[39;00m i \u001b[38;5;129;01min\u001b[39;00m \u001b[38;5;28mrange\u001b[39m(dimensions[\u001b[38;5;241m0\u001b[39m] \u001b[38;5;241m-\u001b[39m \u001b[38;5;241m2\u001b[39m):\n\u001b[0;32m      8\u001b[0m     \u001b[38;5;28;01mfor\u001b[39;00m j \u001b[38;5;129;01min\u001b[39;00m \u001b[38;5;28mrange\u001b[39m(dimensions[\u001b[38;5;241m1\u001b[39m] \u001b[38;5;241m-\u001b[39m \u001b[38;5;241m2\u001b[39m):\n",
      "\u001b[1;31mNameError\u001b[0m: name 'reshape_dimensions_convolution' is not defined"
     ]
    }
   ],
   "source": [
    "image_after_conv_2 = np.array(convolve_one_step(array_image, kernel_3d)).reshape(dimensions[0], dimensions[1], 1)"
   ]
  },
  {
   "cell_type": "code",
   "execution_count": 20,
   "id": "5b793538",
   "metadata": {},
   "outputs": [],
   "source": [
    "def max_pooling(image_array):\n",
    "    pooling_values = []\n",
    "    for m in range(0, image_array.shape[0], 2):\n",
    "        for n in range(0, image_array.shape[1], 2):\n",
    "            for o in range(image_array.shape[2]):\n",
    "                if n + 2 > image_array.shape[1]:\n",
    "                    slice_of_pooling = image_array[m : m + 2, n - 1: n + 1 , o]\n",
    "                else:\n",
    "                    slice_of_pooling = image_array[m : m + 2, n : n + 2 , o]\n",
    "                pooling_values.append(slice_of_pooling.max())\n",
    "                #pdb.set_trace()\n",
    "    return pooling_values"
   ]
  },
  {
   "cell_type": "code",
   "execution_count": 21,
   "id": "84089c4e",
   "metadata": {},
   "outputs": [],
   "source": [
    "def ReLUv1(x):\n",
    "    after_relu = []\n",
    "    for r in x:\n",
    "        if r > 0:\n",
    "            after_relu.append(r)\n",
    "        else:\n",
    "            after_relu.append(0)\n",
    "    return after_relu"
   ]
  },
  {
   "cell_type": "code",
   "execution_count": 22,
   "id": "09672ef6",
   "metadata": {},
   "outputs": [],
   "source": [
    "def ReLUv2(x):\n",
    "    return np.maximum(0, x)"
   ]
  },
  {
   "cell_type": "code",
   "execution_count": 23,
   "id": "4803327d",
   "metadata": {},
   "outputs": [],
   "source": [
    "def fully_connected(after_last_max_pool, number_of_nodes, bias):\n",
    "    almost_values = []\n",
    "    nodes_values = []\n",
    "    shape_of_flatten = np.prod(after_last_max_pool.shape)\n",
    "    flatten_array = after_last_max_pool.reshape(shape_of_flatten)\n",
    "    weights = np.random.rand(len(flatten_array), number_of_nodes)\n",
    "    #pdb.set_trace()\n",
    "    for x in range(weights.shape[1]):\n",
    "        for y in range(weights.shape[0]):\n",
    "            if y == weights.shape[0] - 1:\n",
    "                almost_values.append(weights[y : y + 1, x] * flatten_array[y])\n",
    "                nodes_values.append(sum(almost_values) + bias[x])\n",
    "                almost_values.clear()\n",
    "            else:\n",
    "                almost_values.append(weights[y : y + 1, x] * flatten_array[y] + bias[y])\n",
    "    return np.squeeze(np.array(nodes_values))"
   ]
  },
  {
   "cell_type": "code",
   "execution_count": 24,
   "id": "7e0f1d19",
   "metadata": {},
   "outputs": [],
   "source": [
    "def fully_connected_vectorized(last_max_pool, nodes, bias):\n",
    "    shape_to_flatten = np.prod(last_max_pool.shape)\n",
    "    flatten_input = last_max_pool.reshape(shape_to_flatten, 1)\n",
    "    weights = np.random.rand(nodes, len(flatten_input))\n",
    "    output = np.matmul(weights, flatten_input)\n",
    "    return output + bias"
   ]
  },
  {
   "cell_type": "code",
   "execution_count": 25,
   "id": "037449c0",
   "metadata": {},
   "outputs": [],
   "source": [
    "def reshape_to_matrix_image(height, width, kernel_height, kernel_width, depth):\n",
    "    number_of_patches = np.prod(reshape_dimensions_convolution(height, width, kernel_height, kernel_width, 1))\n",
    "    each_patch_size = kernel_height * kernel_width * depth\n",
    "    return (number_of_patches, each_patch_size)"
   ]
  },
  {
   "cell_type": "code",
   "execution_count": 26,
   "id": "6ea6202e",
   "metadata": {},
   "outputs": [],
   "source": [
    "def convolve_one_step_vectorized(imput_image, kernel_used, matmuldim):\n",
    "    shape_of_image = imput_image.shape\n",
    "    kernel_used_shape = kernel_used.shape\n",
    "    dim_to_reshape = reshape_dimensions_convolution(shape_of_image[0], shape_of_image[1], kernel_used_shape[0], kernel_used_shape[1], 1)\n",
    "    reshaped_image  = reshape_to_matrix_valid(imput_image, (3, 3), 1, -1, matmuldim)\n",
    "    reshaped_kernel = np.squeeze(reshape_to_matrix_valid(kernel_used, (3, 3), 1, -1, 1))\n",
    "    #pdb.set_trace()\n",
    "    vectorized_output = np.matmul(reshaped_image, reshaped_kernel)\n",
    "    return vectorized_output.reshape(dim_to_reshape)"
   ]
  },
  {
   "cell_type": "code",
   "execution_count": 27,
   "id": "28d91cac",
   "metadata": {},
   "outputs": [],
   "source": [
    "def reshape_to_matrix_valid(image, patch_size, stride, rA, rB):\n",
    "    shape = (image.shape[0] - patch_size[0] + 1,\n",
    "             image.shape[1] - patch_size[1] + 1,\n",
    "             patch_size[0],\n",
    "             patch_size[1],\n",
    "             image.shape[2])\n",
    "    #pdb.set_trace()\n",
    "    strides = (image.strides[0],\n",
    "               image.strides[1],\n",
    "               image.strides[0],\n",
    "               image.strides[1],\n",
    "               image.strides[2])\n",
    "    patches = as_strided(image, shape, strides)\n",
    "    #reshaped_patches = patches.reshape(rA, rB)\n",
    "    return patches.reshape(rA, rB)"
   ]
  },
  {
   "cell_type": "code",
   "execution_count": 28,
   "id": "8843a74c",
   "metadata": {},
   "outputs": [],
   "source": [
    "def Softmax(values):\n",
    "    numerator = np.exp(values)\n",
    "    denominator = np.sum(numerator)\n",
    "    return numerator / denominator"
   ]
  },
  {
   "cell_type": "code",
   "execution_count": 29,
   "id": "04ae2402",
   "metadata": {},
   "outputs": [],
   "source": [
    "def More_Robust_Softmax(values):\n",
    "    numerator = np.exp(values - np.max(values))\n",
    "    denominator = np.sum(numerator)\n",
    "    return numerator / denominator"
   ]
  },
  {
   "cell_type": "code",
   "execution_count": 30,
   "id": "0700664f",
   "metadata": {},
   "outputs": [
    {
     "ename": "NameError",
     "evalue": "name 'test1' is not defined",
     "output_type": "error",
     "traceback": [
      "\u001b[1;31m---------------------------------------------------------------------------\u001b[0m",
      "\u001b[1;31mNameError\u001b[0m                                 Traceback (most recent call last)",
      "Cell \u001b[1;32mIn[30], line 1\u001b[0m\n\u001b[1;32m----> 1\u001b[0m fully_connected(test1, \u001b[38;5;241m5\u001b[39m, bias1)\n",
      "\u001b[1;31mNameError\u001b[0m: name 'test1' is not defined"
     ]
    }
   ],
   "source": [
    "\n",
    "fully_connected(test1, 5, bias1)"
   ]
  },
  {
   "cell_type": "code",
   "execution_count": 31,
   "id": "9b354306",
   "metadata": {},
   "outputs": [
    {
     "ename": "NameError",
     "evalue": "name 'test1' is not defined",
     "output_type": "error",
     "traceback": [
      "\u001b[1;31m---------------------------------------------------------------------------\u001b[0m",
      "\u001b[1;31mNameError\u001b[0m                                 Traceback (most recent call last)",
      "Cell \u001b[1;32mIn[31], line 1\u001b[0m\n\u001b[1;32m----> 1\u001b[0m fully_connected(test1, \u001b[38;5;241m5\u001b[39m, bias1)\n",
      "\u001b[1;31mNameError\u001b[0m: name 'test1' is not defined"
     ]
    }
   ],
   "source": [
    "fully_connected(test1, 5, bias1)"
   ]
  },
  {
   "cell_type": "code",
   "execution_count": null,
   "id": "ba94c481",
   "metadata": {},
   "outputs": [],
   "source": []
  },
  {
   "cell_type": "code",
   "execution_count": null,
   "id": "fa5395c4",
   "metadata": {},
   "outputs": [],
   "source": []
  }
 ],
 "metadata": {
  "kernelspec": {
   "display_name": "Python 3 (ipykernel)",
   "language": "python",
   "name": "python3"
  },
  "language_info": {
   "codemirror_mode": {
    "name": "ipython",
    "version": 3
   },
   "file_extension": ".py",
   "mimetype": "text/x-python",
   "name": "python",
   "nbconvert_exporter": "python",
   "pygments_lexer": "ipython3",
   "version": "3.11.7"
  }
 },
 "nbformat": 4,
 "nbformat_minor": 5
}
